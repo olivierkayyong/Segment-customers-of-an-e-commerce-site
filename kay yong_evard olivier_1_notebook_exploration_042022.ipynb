{
 "cells": [
  {
   "cell_type": "code",
   "execution_count": 1,
   "id": "0b362ea7",
   "metadata": {},
   "outputs": [],
   "source": [
    "import pandas as pd\n",
    "import seaborn as sns\n",
    "import matplotlib.pyplot as plt\n",
    "import numpy as np\n",
    "from sklearn.experimental import enable_iterative_imputer\n",
    "from sklearn.impute import IterativeImputer"
   ]
  },
  {
   "cell_type": "markdown",
   "id": "0ef3f803",
   "metadata": {},
   "source": [
    "## Énoncé\n",
    "Consultant pour Olist, nous devons fournir aux équipes d'e-commerce une segmentation des clients utilisable au quotidien pour leurs campagnes de communication.\n",
    "## Mission\n",
    "Nous allons réaliser dans un premier temps un nettoyage et une courte analyse exploratoire des données."
   ]
  },
  {
   "cell_type": "markdown",
   "id": "89102c2c",
   "metadata": {},
   "source": [
    "### Analyse des différents jeux de données"
   ]
  },
  {
   "cell_type": "markdown",
   "id": "e46a4866",
   "metadata": {},
   "source": [
    "Définissons une fonction qui nous renseigne sur le jeu de données:"
   ]
  },
  {
   "cell_type": "code",
   "execution_count": 10,
   "id": "34694e2b",
   "metadata": {},
   "outputs": [],
   "source": [
    "def info_df(name):\n",
    "    \"\"\"Read the csv file and return the dataframe and also print the number of rows and columns,\n",
    "    the features of the dataframe.\n",
    "    Parameters\n",
    "    ----------\n",
    "    name : string\n",
    "           The csv file name\n",
    "    Returns\n",
    "    -------\n",
    "    df : dataframe\n",
    "    \"\"\"\n",
    "    df=pd.read_csv(name)\n",
    "    print((\"The dataset {} have {} rows and {} columns\").format(name,df.shape[0],df.shape[1]))\n",
    "    print((\"The features of the dataset are :\\n{}\").format(df.columns))\n",
    "    print(\"An overview of the dataset:\")\n",
    "    return df"
   ]
  },
  {
   "cell_type": "markdown",
   "id": "003bbdae",
   "metadata": {},
   "source": [
    "#### Customers_dataset"
   ]
  },
  {
   "cell_type": "code",
   "execution_count": 11,
   "id": "f347f29b",
   "metadata": {},
   "outputs": [
    {
     "name": "stdout",
     "output_type": "stream",
     "text": [
      "The dataset olist_customers_dataset.csv have 99441 rows and 5 columns\n",
      "The features of the dataset are :\n",
      "Index(['customer_id', 'customer_unique_id', 'customer_zip_code_prefix',\n",
      "       'customer_city', 'customer_state'],\n",
      "      dtype='object')\n",
      "An overview of the dataset:\n"
     ]
    },
    {
     "data": {
      "text/html": [
       "<div>\n",
       "<style scoped>\n",
       "    .dataframe tbody tr th:only-of-type {\n",
       "        vertical-align: middle;\n",
       "    }\n",
       "\n",
       "    .dataframe tbody tr th {\n",
       "        vertical-align: top;\n",
       "    }\n",
       "\n",
       "    .dataframe thead th {\n",
       "        text-align: right;\n",
       "    }\n",
       "</style>\n",
       "<table border=\"1\" class=\"dataframe\">\n",
       "  <thead>\n",
       "    <tr style=\"text-align: right;\">\n",
       "      <th></th>\n",
       "      <th>customer_id</th>\n",
       "      <th>customer_unique_id</th>\n",
       "      <th>customer_zip_code_prefix</th>\n",
       "      <th>customer_city</th>\n",
       "      <th>customer_state</th>\n",
       "    </tr>\n",
       "  </thead>\n",
       "  <tbody>\n",
       "    <tr>\n",
       "      <th>0</th>\n",
       "      <td>06b8999e2fba1a1fbc88172c00ba8bc7</td>\n",
       "      <td>861eff4711a542e4b93843c6dd7febb0</td>\n",
       "      <td>14409</td>\n",
       "      <td>franca</td>\n",
       "      <td>SP</td>\n",
       "    </tr>\n",
       "    <tr>\n",
       "      <th>1</th>\n",
       "      <td>18955e83d337fd6b2def6b18a428ac77</td>\n",
       "      <td>290c77bc529b7ac935b93aa66c333dc3</td>\n",
       "      <td>9790</td>\n",
       "      <td>sao bernardo do campo</td>\n",
       "      <td>SP</td>\n",
       "    </tr>\n",
       "    <tr>\n",
       "      <th>2</th>\n",
       "      <td>4e7b3e00288586ebd08712fdd0374a03</td>\n",
       "      <td>060e732b5b29e8181a18229c7b0b2b5e</td>\n",
       "      <td>1151</td>\n",
       "      <td>sao paulo</td>\n",
       "      <td>SP</td>\n",
       "    </tr>\n",
       "    <tr>\n",
       "      <th>3</th>\n",
       "      <td>b2b6027bc5c5109e529d4dc6358b12c3</td>\n",
       "      <td>259dac757896d24d7702b9acbbff3f3c</td>\n",
       "      <td>8775</td>\n",
       "      <td>mogi das cruzes</td>\n",
       "      <td>SP</td>\n",
       "    </tr>\n",
       "    <tr>\n",
       "      <th>4</th>\n",
       "      <td>4f2d8ab171c80ec8364f7c12e35b23ad</td>\n",
       "      <td>345ecd01c38d18a9036ed96c73b8d066</td>\n",
       "      <td>13056</td>\n",
       "      <td>campinas</td>\n",
       "      <td>SP</td>\n",
       "    </tr>\n",
       "  </tbody>\n",
       "</table>\n",
       "</div>"
      ],
      "text/plain": [
       "                        customer_id                customer_unique_id  \\\n",
       "0  06b8999e2fba1a1fbc88172c00ba8bc7  861eff4711a542e4b93843c6dd7febb0   \n",
       "1  18955e83d337fd6b2def6b18a428ac77  290c77bc529b7ac935b93aa66c333dc3   \n",
       "2  4e7b3e00288586ebd08712fdd0374a03  060e732b5b29e8181a18229c7b0b2b5e   \n",
       "3  b2b6027bc5c5109e529d4dc6358b12c3  259dac757896d24d7702b9acbbff3f3c   \n",
       "4  4f2d8ab171c80ec8364f7c12e35b23ad  345ecd01c38d18a9036ed96c73b8d066   \n",
       "\n",
       "   customer_zip_code_prefix          customer_city customer_state  \n",
       "0                     14409                 franca             SP  \n",
       "1                      9790  sao bernardo do campo             SP  \n",
       "2                      1151              sao paulo             SP  \n",
       "3                      8775        mogi das cruzes             SP  \n",
       "4                     13056               campinas             SP  "
      ]
     },
     "execution_count": 11,
     "metadata": {},
     "output_type": "execute_result"
    }
   ],
   "source": [
    "df_customers = info_df('olist_customers_dataset.csv')\n",
    "df_customers.head()"
   ]
  },
  {
   "cell_type": "markdown",
   "id": "b3c416aa",
   "metadata": {},
   "source": [
    "#### Geolocation_dataset"
   ]
  },
  {
   "cell_type": "markdown",
   "id": "33429077",
   "metadata": {},
   "source": [
    "Lecture du second jeu de données:"
   ]
  },
  {
   "cell_type": "code",
   "execution_count": 12,
   "id": "1484547f",
   "metadata": {},
   "outputs": [
    {
     "name": "stdout",
     "output_type": "stream",
     "text": [
      "The dataset olist_geolocation_dataset.csv have 1000163 rows and 5 columns\n",
      "The features of the dataset are :\n",
      "Index(['geolocation_zip_code_prefix', 'geolocation_lat', 'geolocation_lng',\n",
      "       'geolocation_city', 'geolocation_state'],\n",
      "      dtype='object')\n",
      "An overview of the dataset:\n"
     ]
    },
    {
     "data": {
      "text/html": [
       "<div>\n",
       "<style scoped>\n",
       "    .dataframe tbody tr th:only-of-type {\n",
       "        vertical-align: middle;\n",
       "    }\n",
       "\n",
       "    .dataframe tbody tr th {\n",
       "        vertical-align: top;\n",
       "    }\n",
       "\n",
       "    .dataframe thead th {\n",
       "        text-align: right;\n",
       "    }\n",
       "</style>\n",
       "<table border=\"1\" class=\"dataframe\">\n",
       "  <thead>\n",
       "    <tr style=\"text-align: right;\">\n",
       "      <th></th>\n",
       "      <th>geolocation_zip_code_prefix</th>\n",
       "      <th>geolocation_lat</th>\n",
       "      <th>geolocation_lng</th>\n",
       "      <th>geolocation_city</th>\n",
       "      <th>geolocation_state</th>\n",
       "    </tr>\n",
       "  </thead>\n",
       "  <tbody>\n",
       "    <tr>\n",
       "      <th>0</th>\n",
       "      <td>1037</td>\n",
       "      <td>-23.545621</td>\n",
       "      <td>-46.639292</td>\n",
       "      <td>sao paulo</td>\n",
       "      <td>SP</td>\n",
       "    </tr>\n",
       "    <tr>\n",
       "      <th>1</th>\n",
       "      <td>1046</td>\n",
       "      <td>-23.546081</td>\n",
       "      <td>-46.644820</td>\n",
       "      <td>sao paulo</td>\n",
       "      <td>SP</td>\n",
       "    </tr>\n",
       "    <tr>\n",
       "      <th>2</th>\n",
       "      <td>1046</td>\n",
       "      <td>-23.546129</td>\n",
       "      <td>-46.642951</td>\n",
       "      <td>sao paulo</td>\n",
       "      <td>SP</td>\n",
       "    </tr>\n",
       "    <tr>\n",
       "      <th>3</th>\n",
       "      <td>1041</td>\n",
       "      <td>-23.544392</td>\n",
       "      <td>-46.639499</td>\n",
       "      <td>sao paulo</td>\n",
       "      <td>SP</td>\n",
       "    </tr>\n",
       "    <tr>\n",
       "      <th>4</th>\n",
       "      <td>1035</td>\n",
       "      <td>-23.541578</td>\n",
       "      <td>-46.641607</td>\n",
       "      <td>sao paulo</td>\n",
       "      <td>SP</td>\n",
       "    </tr>\n",
       "  </tbody>\n",
       "</table>\n",
       "</div>"
      ],
      "text/plain": [
       "   geolocation_zip_code_prefix  geolocation_lat  geolocation_lng  \\\n",
       "0                         1037       -23.545621       -46.639292   \n",
       "1                         1046       -23.546081       -46.644820   \n",
       "2                         1046       -23.546129       -46.642951   \n",
       "3                         1041       -23.544392       -46.639499   \n",
       "4                         1035       -23.541578       -46.641607   \n",
       "\n",
       "  geolocation_city geolocation_state  \n",
       "0        sao paulo                SP  \n",
       "1        sao paulo                SP  \n",
       "2        sao paulo                SP  \n",
       "3        sao paulo                SP  \n",
       "4        sao paulo                SP  "
      ]
     },
     "execution_count": 12,
     "metadata": {},
     "output_type": "execute_result"
    }
   ],
   "source": [
    "df_geo = info_df('olist_geolocation_dataset.csv')\n",
    "df_geo.head()"
   ]
  },
  {
   "cell_type": "markdown",
   "id": "3fb0069a",
   "metadata": {},
   "source": [
    "#### Order_items_dataset"
   ]
  },
  {
   "cell_type": "code",
   "execution_count": 13,
   "id": "3abed484",
   "metadata": {},
   "outputs": [
    {
     "name": "stdout",
     "output_type": "stream",
     "text": [
      "The dataset olist_order_items_dataset.csv have 112650 rows and 7 columns\n",
      "The features of the dataset are :\n",
      "Index(['order_id', 'order_item_id', 'product_id', 'seller_id',\n",
      "       'shipping_limit_date', 'price', 'freight_value'],\n",
      "      dtype='object')\n",
      "An overview of the dataset:\n"
     ]
    },
    {
     "data": {
      "text/html": [
       "<div>\n",
       "<style scoped>\n",
       "    .dataframe tbody tr th:only-of-type {\n",
       "        vertical-align: middle;\n",
       "    }\n",
       "\n",
       "    .dataframe tbody tr th {\n",
       "        vertical-align: top;\n",
       "    }\n",
       "\n",
       "    .dataframe thead th {\n",
       "        text-align: right;\n",
       "    }\n",
       "</style>\n",
       "<table border=\"1\" class=\"dataframe\">\n",
       "  <thead>\n",
       "    <tr style=\"text-align: right;\">\n",
       "      <th></th>\n",
       "      <th>order_id</th>\n",
       "      <th>order_item_id</th>\n",
       "      <th>product_id</th>\n",
       "      <th>seller_id</th>\n",
       "      <th>shipping_limit_date</th>\n",
       "      <th>price</th>\n",
       "      <th>freight_value</th>\n",
       "    </tr>\n",
       "  </thead>\n",
       "  <tbody>\n",
       "    <tr>\n",
       "      <th>0</th>\n",
       "      <td>00010242fe8c5a6d1ba2dd792cb16214</td>\n",
       "      <td>1</td>\n",
       "      <td>4244733e06e7ecb4970a6e2683c13e61</td>\n",
       "      <td>48436dade18ac8b2bce089ec2a041202</td>\n",
       "      <td>2017-09-19 09:45:35</td>\n",
       "      <td>58.90</td>\n",
       "      <td>13.29</td>\n",
       "    </tr>\n",
       "    <tr>\n",
       "      <th>1</th>\n",
       "      <td>00018f77f2f0320c557190d7a144bdd3</td>\n",
       "      <td>1</td>\n",
       "      <td>e5f2d52b802189ee658865ca93d83a8f</td>\n",
       "      <td>dd7ddc04e1b6c2c614352b383efe2d36</td>\n",
       "      <td>2017-05-03 11:05:13</td>\n",
       "      <td>239.90</td>\n",
       "      <td>19.93</td>\n",
       "    </tr>\n",
       "    <tr>\n",
       "      <th>2</th>\n",
       "      <td>000229ec398224ef6ca0657da4fc703e</td>\n",
       "      <td>1</td>\n",
       "      <td>c777355d18b72b67abbeef9df44fd0fd</td>\n",
       "      <td>5b51032eddd242adc84c38acab88f23d</td>\n",
       "      <td>2018-01-18 14:48:30</td>\n",
       "      <td>199.00</td>\n",
       "      <td>17.87</td>\n",
       "    </tr>\n",
       "    <tr>\n",
       "      <th>3</th>\n",
       "      <td>00024acbcdf0a6daa1e931b038114c75</td>\n",
       "      <td>1</td>\n",
       "      <td>7634da152a4610f1595efa32f14722fc</td>\n",
       "      <td>9d7a1d34a5052409006425275ba1c2b4</td>\n",
       "      <td>2018-08-15 10:10:18</td>\n",
       "      <td>12.99</td>\n",
       "      <td>12.79</td>\n",
       "    </tr>\n",
       "    <tr>\n",
       "      <th>4</th>\n",
       "      <td>00042b26cf59d7ce69dfabb4e55b4fd9</td>\n",
       "      <td>1</td>\n",
       "      <td>ac6c3623068f30de03045865e4e10089</td>\n",
       "      <td>df560393f3a51e74553ab94004ba5c87</td>\n",
       "      <td>2017-02-13 13:57:51</td>\n",
       "      <td>199.90</td>\n",
       "      <td>18.14</td>\n",
       "    </tr>\n",
       "  </tbody>\n",
       "</table>\n",
       "</div>"
      ],
      "text/plain": [
       "                           order_id  order_item_id  \\\n",
       "0  00010242fe8c5a6d1ba2dd792cb16214              1   \n",
       "1  00018f77f2f0320c557190d7a144bdd3              1   \n",
       "2  000229ec398224ef6ca0657da4fc703e              1   \n",
       "3  00024acbcdf0a6daa1e931b038114c75              1   \n",
       "4  00042b26cf59d7ce69dfabb4e55b4fd9              1   \n",
       "\n",
       "                         product_id                         seller_id  \\\n",
       "0  4244733e06e7ecb4970a6e2683c13e61  48436dade18ac8b2bce089ec2a041202   \n",
       "1  e5f2d52b802189ee658865ca93d83a8f  dd7ddc04e1b6c2c614352b383efe2d36   \n",
       "2  c777355d18b72b67abbeef9df44fd0fd  5b51032eddd242adc84c38acab88f23d   \n",
       "3  7634da152a4610f1595efa32f14722fc  9d7a1d34a5052409006425275ba1c2b4   \n",
       "4  ac6c3623068f30de03045865e4e10089  df560393f3a51e74553ab94004ba5c87   \n",
       "\n",
       "   shipping_limit_date   price  freight_value  \n",
       "0  2017-09-19 09:45:35   58.90          13.29  \n",
       "1  2017-05-03 11:05:13  239.90          19.93  \n",
       "2  2018-01-18 14:48:30  199.00          17.87  \n",
       "3  2018-08-15 10:10:18   12.99          12.79  \n",
       "4  2017-02-13 13:57:51  199.90          18.14  "
      ]
     },
     "execution_count": 13,
     "metadata": {},
     "output_type": "execute_result"
    }
   ],
   "source": [
    "df_items = info_df('olist_order_items_dataset.csv')\n",
    "df_items.head()"
   ]
  },
  {
   "cell_type": "markdown",
   "id": "c48a7a4e",
   "metadata": {},
   "source": [
    "#### Order_payments_dataset"
   ]
  },
  {
   "cell_type": "code",
   "execution_count": 14,
   "id": "421be87d",
   "metadata": {},
   "outputs": [
    {
     "name": "stdout",
     "output_type": "stream",
     "text": [
      "The dataset olist_order_payments_dataset.csv have 103886 rows and 5 columns\n",
      "The features of the dataset are :\n",
      "Index(['order_id', 'payment_sequential', 'payment_type',\n",
      "       'payment_installments', 'payment_value'],\n",
      "      dtype='object')\n",
      "An overview of the dataset:\n"
     ]
    },
    {
     "data": {
      "text/html": [
       "<div>\n",
       "<style scoped>\n",
       "    .dataframe tbody tr th:only-of-type {\n",
       "        vertical-align: middle;\n",
       "    }\n",
       "\n",
       "    .dataframe tbody tr th {\n",
       "        vertical-align: top;\n",
       "    }\n",
       "\n",
       "    .dataframe thead th {\n",
       "        text-align: right;\n",
       "    }\n",
       "</style>\n",
       "<table border=\"1\" class=\"dataframe\">\n",
       "  <thead>\n",
       "    <tr style=\"text-align: right;\">\n",
       "      <th></th>\n",
       "      <th>order_id</th>\n",
       "      <th>payment_sequential</th>\n",
       "      <th>payment_type</th>\n",
       "      <th>payment_installments</th>\n",
       "      <th>payment_value</th>\n",
       "    </tr>\n",
       "  </thead>\n",
       "  <tbody>\n",
       "    <tr>\n",
       "      <th>0</th>\n",
       "      <td>b81ef226f3fe1789b1e8b2acac839d17</td>\n",
       "      <td>1</td>\n",
       "      <td>credit_card</td>\n",
       "      <td>8</td>\n",
       "      <td>99.33</td>\n",
       "    </tr>\n",
       "    <tr>\n",
       "      <th>1</th>\n",
       "      <td>a9810da82917af2d9aefd1278f1dcfa0</td>\n",
       "      <td>1</td>\n",
       "      <td>credit_card</td>\n",
       "      <td>1</td>\n",
       "      <td>24.39</td>\n",
       "    </tr>\n",
       "    <tr>\n",
       "      <th>2</th>\n",
       "      <td>25e8ea4e93396b6fa0d3dd708e76c1bd</td>\n",
       "      <td>1</td>\n",
       "      <td>credit_card</td>\n",
       "      <td>1</td>\n",
       "      <td>65.71</td>\n",
       "    </tr>\n",
       "    <tr>\n",
       "      <th>3</th>\n",
       "      <td>ba78997921bbcdc1373bb41e913ab953</td>\n",
       "      <td>1</td>\n",
       "      <td>credit_card</td>\n",
       "      <td>8</td>\n",
       "      <td>107.78</td>\n",
       "    </tr>\n",
       "    <tr>\n",
       "      <th>4</th>\n",
       "      <td>42fdf880ba16b47b59251dd489d4441a</td>\n",
       "      <td>1</td>\n",
       "      <td>credit_card</td>\n",
       "      <td>2</td>\n",
       "      <td>128.45</td>\n",
       "    </tr>\n",
       "  </tbody>\n",
       "</table>\n",
       "</div>"
      ],
      "text/plain": [
       "                           order_id  payment_sequential payment_type  \\\n",
       "0  b81ef226f3fe1789b1e8b2acac839d17                   1  credit_card   \n",
       "1  a9810da82917af2d9aefd1278f1dcfa0                   1  credit_card   \n",
       "2  25e8ea4e93396b6fa0d3dd708e76c1bd                   1  credit_card   \n",
       "3  ba78997921bbcdc1373bb41e913ab953                   1  credit_card   \n",
       "4  42fdf880ba16b47b59251dd489d4441a                   1  credit_card   \n",
       "\n",
       "   payment_installments  payment_value  \n",
       "0                     8          99.33  \n",
       "1                     1          24.39  \n",
       "2                     1          65.71  \n",
       "3                     8         107.78  \n",
       "4                     2         128.45  "
      ]
     },
     "execution_count": 14,
     "metadata": {},
     "output_type": "execute_result"
    }
   ],
   "source": [
    "df_payments = info_df('olist_order_payments_dataset.csv')\n",
    "df_payments.head()"
   ]
  },
  {
   "cell_type": "markdown",
   "id": "fe04e9f7",
   "metadata": {},
   "source": [
    "#### Order_reviews_dataset"
   ]
  },
  {
   "cell_type": "code",
   "execution_count": 15,
   "id": "05b2ca0a",
   "metadata": {},
   "outputs": [
    {
     "name": "stdout",
     "output_type": "stream",
     "text": [
      "The dataset olist_order_reviews_dataset.csv have 99224 rows and 7 columns\n",
      "The features of the dataset are :\n",
      "Index(['review_id', 'order_id', 'review_score', 'review_comment_title',\n",
      "       'review_comment_message', 'review_creation_date',\n",
      "       'review_answer_timestamp'],\n",
      "      dtype='object')\n",
      "An overview of the dataset:\n"
     ]
    },
    {
     "data": {
      "text/html": [
       "<div>\n",
       "<style scoped>\n",
       "    .dataframe tbody tr th:only-of-type {\n",
       "        vertical-align: middle;\n",
       "    }\n",
       "\n",
       "    .dataframe tbody tr th {\n",
       "        vertical-align: top;\n",
       "    }\n",
       "\n",
       "    .dataframe thead th {\n",
       "        text-align: right;\n",
       "    }\n",
       "</style>\n",
       "<table border=\"1\" class=\"dataframe\">\n",
       "  <thead>\n",
       "    <tr style=\"text-align: right;\">\n",
       "      <th></th>\n",
       "      <th>review_id</th>\n",
       "      <th>order_id</th>\n",
       "      <th>review_score</th>\n",
       "      <th>review_comment_title</th>\n",
       "      <th>review_comment_message</th>\n",
       "      <th>review_creation_date</th>\n",
       "      <th>review_answer_timestamp</th>\n",
       "    </tr>\n",
       "  </thead>\n",
       "  <tbody>\n",
       "    <tr>\n",
       "      <th>0</th>\n",
       "      <td>7bc2406110b926393aa56f80a40eba40</td>\n",
       "      <td>73fc7af87114b39712e6da79b0a377eb</td>\n",
       "      <td>4</td>\n",
       "      <td>NaN</td>\n",
       "      <td>NaN</td>\n",
       "      <td>2018-01-18 00:00:00</td>\n",
       "      <td>2018-01-18 21:46:59</td>\n",
       "    </tr>\n",
       "    <tr>\n",
       "      <th>1</th>\n",
       "      <td>80e641a11e56f04c1ad469d5645fdfde</td>\n",
       "      <td>a548910a1c6147796b98fdf73dbeba33</td>\n",
       "      <td>5</td>\n",
       "      <td>NaN</td>\n",
       "      <td>NaN</td>\n",
       "      <td>2018-03-10 00:00:00</td>\n",
       "      <td>2018-03-11 03:05:13</td>\n",
       "    </tr>\n",
       "    <tr>\n",
       "      <th>2</th>\n",
       "      <td>228ce5500dc1d8e020d8d1322874b6f0</td>\n",
       "      <td>f9e4b658b201a9f2ecdecbb34bed034b</td>\n",
       "      <td>5</td>\n",
       "      <td>NaN</td>\n",
       "      <td>NaN</td>\n",
       "      <td>2018-02-17 00:00:00</td>\n",
       "      <td>2018-02-18 14:36:24</td>\n",
       "    </tr>\n",
       "    <tr>\n",
       "      <th>3</th>\n",
       "      <td>e64fb393e7b32834bb789ff8bb30750e</td>\n",
       "      <td>658677c97b385a9be170737859d3511b</td>\n",
       "      <td>5</td>\n",
       "      <td>NaN</td>\n",
       "      <td>Recebi bem antes do prazo estipulado.</td>\n",
       "      <td>2017-04-21 00:00:00</td>\n",
       "      <td>2017-04-21 22:02:06</td>\n",
       "    </tr>\n",
       "    <tr>\n",
       "      <th>4</th>\n",
       "      <td>f7c4243c7fe1938f181bec41a392bdeb</td>\n",
       "      <td>8e6bfb81e283fa7e4f11123a3fb894f1</td>\n",
       "      <td>5</td>\n",
       "      <td>NaN</td>\n",
       "      <td>Parabéns lojas lannister adorei comprar pela I...</td>\n",
       "      <td>2018-03-01 00:00:00</td>\n",
       "      <td>2018-03-02 10:26:53</td>\n",
       "    </tr>\n",
       "  </tbody>\n",
       "</table>\n",
       "</div>"
      ],
      "text/plain": [
       "                          review_id                          order_id  \\\n",
       "0  7bc2406110b926393aa56f80a40eba40  73fc7af87114b39712e6da79b0a377eb   \n",
       "1  80e641a11e56f04c1ad469d5645fdfde  a548910a1c6147796b98fdf73dbeba33   \n",
       "2  228ce5500dc1d8e020d8d1322874b6f0  f9e4b658b201a9f2ecdecbb34bed034b   \n",
       "3  e64fb393e7b32834bb789ff8bb30750e  658677c97b385a9be170737859d3511b   \n",
       "4  f7c4243c7fe1938f181bec41a392bdeb  8e6bfb81e283fa7e4f11123a3fb894f1   \n",
       "\n",
       "   review_score review_comment_title  \\\n",
       "0             4                  NaN   \n",
       "1             5                  NaN   \n",
       "2             5                  NaN   \n",
       "3             5                  NaN   \n",
       "4             5                  NaN   \n",
       "\n",
       "                              review_comment_message review_creation_date  \\\n",
       "0                                                NaN  2018-01-18 00:00:00   \n",
       "1                                                NaN  2018-03-10 00:00:00   \n",
       "2                                                NaN  2018-02-17 00:00:00   \n",
       "3              Recebi bem antes do prazo estipulado.  2017-04-21 00:00:00   \n",
       "4  Parabéns lojas lannister adorei comprar pela I...  2018-03-01 00:00:00   \n",
       "\n",
       "  review_answer_timestamp  \n",
       "0     2018-01-18 21:46:59  \n",
       "1     2018-03-11 03:05:13  \n",
       "2     2018-02-18 14:36:24  \n",
       "3     2017-04-21 22:02:06  \n",
       "4     2018-03-02 10:26:53  "
      ]
     },
     "execution_count": 15,
     "metadata": {},
     "output_type": "execute_result"
    }
   ],
   "source": [
    "df_reviews = info_df('olist_order_reviews_dataset.csv')\n",
    "df_reviews.head()"
   ]
  },
  {
   "cell_type": "markdown",
   "id": "74e59e28",
   "metadata": {},
   "source": [
    "#### Orders_dataset"
   ]
  },
  {
   "cell_type": "code",
   "execution_count": 16,
   "id": "7b6eb3bf",
   "metadata": {},
   "outputs": [
    {
     "name": "stdout",
     "output_type": "stream",
     "text": [
      "The dataset olist_orders_dataset.csv have 99441 rows and 8 columns\n",
      "The features of the dataset are :\n",
      "Index(['order_id', 'customer_id', 'order_status', 'order_purchase_timestamp',\n",
      "       'order_approved_at', 'order_delivered_carrier_date',\n",
      "       'order_delivered_customer_date', 'order_estimated_delivery_date'],\n",
      "      dtype='object')\n",
      "An overview of the dataset:\n"
     ]
    },
    {
     "data": {
      "text/html": [
       "<div>\n",
       "<style scoped>\n",
       "    .dataframe tbody tr th:only-of-type {\n",
       "        vertical-align: middle;\n",
       "    }\n",
       "\n",
       "    .dataframe tbody tr th {\n",
       "        vertical-align: top;\n",
       "    }\n",
       "\n",
       "    .dataframe thead th {\n",
       "        text-align: right;\n",
       "    }\n",
       "</style>\n",
       "<table border=\"1\" class=\"dataframe\">\n",
       "  <thead>\n",
       "    <tr style=\"text-align: right;\">\n",
       "      <th></th>\n",
       "      <th>order_id</th>\n",
       "      <th>customer_id</th>\n",
       "      <th>order_status</th>\n",
       "      <th>order_purchase_timestamp</th>\n",
       "      <th>order_approved_at</th>\n",
       "      <th>order_delivered_carrier_date</th>\n",
       "      <th>order_delivered_customer_date</th>\n",
       "      <th>order_estimated_delivery_date</th>\n",
       "    </tr>\n",
       "  </thead>\n",
       "  <tbody>\n",
       "    <tr>\n",
       "      <th>0</th>\n",
       "      <td>e481f51cbdc54678b7cc49136f2d6af7</td>\n",
       "      <td>9ef432eb6251297304e76186b10a928d</td>\n",
       "      <td>delivered</td>\n",
       "      <td>2017-10-02 10:56:33</td>\n",
       "      <td>2017-10-02 11:07:15</td>\n",
       "      <td>2017-10-04 19:55:00</td>\n",
       "      <td>2017-10-10 21:25:13</td>\n",
       "      <td>2017-10-18 00:00:00</td>\n",
       "    </tr>\n",
       "    <tr>\n",
       "      <th>1</th>\n",
       "      <td>53cdb2fc8bc7dce0b6741e2150273451</td>\n",
       "      <td>b0830fb4747a6c6d20dea0b8c802d7ef</td>\n",
       "      <td>delivered</td>\n",
       "      <td>2018-07-24 20:41:37</td>\n",
       "      <td>2018-07-26 03:24:27</td>\n",
       "      <td>2018-07-26 14:31:00</td>\n",
       "      <td>2018-08-07 15:27:45</td>\n",
       "      <td>2018-08-13 00:00:00</td>\n",
       "    </tr>\n",
       "    <tr>\n",
       "      <th>2</th>\n",
       "      <td>47770eb9100c2d0c44946d9cf07ec65d</td>\n",
       "      <td>41ce2a54c0b03bf3443c3d931a367089</td>\n",
       "      <td>delivered</td>\n",
       "      <td>2018-08-08 08:38:49</td>\n",
       "      <td>2018-08-08 08:55:23</td>\n",
       "      <td>2018-08-08 13:50:00</td>\n",
       "      <td>2018-08-17 18:06:29</td>\n",
       "      <td>2018-09-04 00:00:00</td>\n",
       "    </tr>\n",
       "    <tr>\n",
       "      <th>3</th>\n",
       "      <td>949d5b44dbf5de918fe9c16f97b45f8a</td>\n",
       "      <td>f88197465ea7920adcdbec7375364d82</td>\n",
       "      <td>delivered</td>\n",
       "      <td>2017-11-18 19:28:06</td>\n",
       "      <td>2017-11-18 19:45:59</td>\n",
       "      <td>2017-11-22 13:39:59</td>\n",
       "      <td>2017-12-02 00:28:42</td>\n",
       "      <td>2017-12-15 00:00:00</td>\n",
       "    </tr>\n",
       "    <tr>\n",
       "      <th>4</th>\n",
       "      <td>ad21c59c0840e6cb83a9ceb5573f8159</td>\n",
       "      <td>8ab97904e6daea8866dbdbc4fb7aad2c</td>\n",
       "      <td>delivered</td>\n",
       "      <td>2018-02-13 21:18:39</td>\n",
       "      <td>2018-02-13 22:20:29</td>\n",
       "      <td>2018-02-14 19:46:34</td>\n",
       "      <td>2018-02-16 18:17:02</td>\n",
       "      <td>2018-02-26 00:00:00</td>\n",
       "    </tr>\n",
       "  </tbody>\n",
       "</table>\n",
       "</div>"
      ],
      "text/plain": [
       "                           order_id                       customer_id  \\\n",
       "0  e481f51cbdc54678b7cc49136f2d6af7  9ef432eb6251297304e76186b10a928d   \n",
       "1  53cdb2fc8bc7dce0b6741e2150273451  b0830fb4747a6c6d20dea0b8c802d7ef   \n",
       "2  47770eb9100c2d0c44946d9cf07ec65d  41ce2a54c0b03bf3443c3d931a367089   \n",
       "3  949d5b44dbf5de918fe9c16f97b45f8a  f88197465ea7920adcdbec7375364d82   \n",
       "4  ad21c59c0840e6cb83a9ceb5573f8159  8ab97904e6daea8866dbdbc4fb7aad2c   \n",
       "\n",
       "  order_status order_purchase_timestamp    order_approved_at  \\\n",
       "0    delivered      2017-10-02 10:56:33  2017-10-02 11:07:15   \n",
       "1    delivered      2018-07-24 20:41:37  2018-07-26 03:24:27   \n",
       "2    delivered      2018-08-08 08:38:49  2018-08-08 08:55:23   \n",
       "3    delivered      2017-11-18 19:28:06  2017-11-18 19:45:59   \n",
       "4    delivered      2018-02-13 21:18:39  2018-02-13 22:20:29   \n",
       "\n",
       "  order_delivered_carrier_date order_delivered_customer_date  \\\n",
       "0          2017-10-04 19:55:00           2017-10-10 21:25:13   \n",
       "1          2018-07-26 14:31:00           2018-08-07 15:27:45   \n",
       "2          2018-08-08 13:50:00           2018-08-17 18:06:29   \n",
       "3          2017-11-22 13:39:59           2017-12-02 00:28:42   \n",
       "4          2018-02-14 19:46:34           2018-02-16 18:17:02   \n",
       "\n",
       "  order_estimated_delivery_date  \n",
       "0           2017-10-18 00:00:00  \n",
       "1           2018-08-13 00:00:00  \n",
       "2           2018-09-04 00:00:00  \n",
       "3           2017-12-15 00:00:00  \n",
       "4           2018-02-26 00:00:00  "
      ]
     },
     "execution_count": 16,
     "metadata": {},
     "output_type": "execute_result"
    }
   ],
   "source": [
    "df_orders_ = info_df('olist_orders_dataset.csv')\n",
    "df_orders_.head()"
   ]
  },
  {
   "cell_type": "markdown",
   "id": "543cd771",
   "metadata": {},
   "source": [
    "#### Products_dataset"
   ]
  },
  {
   "cell_type": "code",
   "execution_count": 17,
   "id": "f07f7d77",
   "metadata": {},
   "outputs": [
    {
     "name": "stdout",
     "output_type": "stream",
     "text": [
      "The dataset olist_products_dataset.csv have 32951 rows and 9 columns\n",
      "The features of the dataset are :\n",
      "Index(['product_id', 'product_category_name', 'product_name_lenght',\n",
      "       'product_description_lenght', 'product_photos_qty', 'product_weight_g',\n",
      "       'product_length_cm', 'product_height_cm', 'product_width_cm'],\n",
      "      dtype='object')\n",
      "An overview of the dataset:\n"
     ]
    },
    {
     "data": {
      "text/html": [
       "<div>\n",
       "<style scoped>\n",
       "    .dataframe tbody tr th:only-of-type {\n",
       "        vertical-align: middle;\n",
       "    }\n",
       "\n",
       "    .dataframe tbody tr th {\n",
       "        vertical-align: top;\n",
       "    }\n",
       "\n",
       "    .dataframe thead th {\n",
       "        text-align: right;\n",
       "    }\n",
       "</style>\n",
       "<table border=\"1\" class=\"dataframe\">\n",
       "  <thead>\n",
       "    <tr style=\"text-align: right;\">\n",
       "      <th></th>\n",
       "      <th>product_id</th>\n",
       "      <th>product_category_name</th>\n",
       "      <th>product_name_lenght</th>\n",
       "      <th>product_description_lenght</th>\n",
       "      <th>product_photos_qty</th>\n",
       "      <th>product_weight_g</th>\n",
       "      <th>product_length_cm</th>\n",
       "      <th>product_height_cm</th>\n",
       "      <th>product_width_cm</th>\n",
       "    </tr>\n",
       "  </thead>\n",
       "  <tbody>\n",
       "    <tr>\n",
       "      <th>0</th>\n",
       "      <td>1e9e8ef04dbcff4541ed26657ea517e5</td>\n",
       "      <td>perfumaria</td>\n",
       "      <td>40.0</td>\n",
       "      <td>287.0</td>\n",
       "      <td>1.0</td>\n",
       "      <td>225.0</td>\n",
       "      <td>16.0</td>\n",
       "      <td>10.0</td>\n",
       "      <td>14.0</td>\n",
       "    </tr>\n",
       "    <tr>\n",
       "      <th>1</th>\n",
       "      <td>3aa071139cb16b67ca9e5dea641aaa2f</td>\n",
       "      <td>artes</td>\n",
       "      <td>44.0</td>\n",
       "      <td>276.0</td>\n",
       "      <td>1.0</td>\n",
       "      <td>1000.0</td>\n",
       "      <td>30.0</td>\n",
       "      <td>18.0</td>\n",
       "      <td>20.0</td>\n",
       "    </tr>\n",
       "    <tr>\n",
       "      <th>2</th>\n",
       "      <td>96bd76ec8810374ed1b65e291975717f</td>\n",
       "      <td>esporte_lazer</td>\n",
       "      <td>46.0</td>\n",
       "      <td>250.0</td>\n",
       "      <td>1.0</td>\n",
       "      <td>154.0</td>\n",
       "      <td>18.0</td>\n",
       "      <td>9.0</td>\n",
       "      <td>15.0</td>\n",
       "    </tr>\n",
       "    <tr>\n",
       "      <th>3</th>\n",
       "      <td>cef67bcfe19066a932b7673e239eb23d</td>\n",
       "      <td>bebes</td>\n",
       "      <td>27.0</td>\n",
       "      <td>261.0</td>\n",
       "      <td>1.0</td>\n",
       "      <td>371.0</td>\n",
       "      <td>26.0</td>\n",
       "      <td>4.0</td>\n",
       "      <td>26.0</td>\n",
       "    </tr>\n",
       "    <tr>\n",
       "      <th>4</th>\n",
       "      <td>9dc1a7de274444849c219cff195d0b71</td>\n",
       "      <td>utilidades_domesticas</td>\n",
       "      <td>37.0</td>\n",
       "      <td>402.0</td>\n",
       "      <td>4.0</td>\n",
       "      <td>625.0</td>\n",
       "      <td>20.0</td>\n",
       "      <td>17.0</td>\n",
       "      <td>13.0</td>\n",
       "    </tr>\n",
       "  </tbody>\n",
       "</table>\n",
       "</div>"
      ],
      "text/plain": [
       "                         product_id  product_category_name  \\\n",
       "0  1e9e8ef04dbcff4541ed26657ea517e5             perfumaria   \n",
       "1  3aa071139cb16b67ca9e5dea641aaa2f                  artes   \n",
       "2  96bd76ec8810374ed1b65e291975717f          esporte_lazer   \n",
       "3  cef67bcfe19066a932b7673e239eb23d                  bebes   \n",
       "4  9dc1a7de274444849c219cff195d0b71  utilidades_domesticas   \n",
       "\n",
       "   product_name_lenght  product_description_lenght  product_photos_qty  \\\n",
       "0                 40.0                       287.0                 1.0   \n",
       "1                 44.0                       276.0                 1.0   \n",
       "2                 46.0                       250.0                 1.0   \n",
       "3                 27.0                       261.0                 1.0   \n",
       "4                 37.0                       402.0                 4.0   \n",
       "\n",
       "   product_weight_g  product_length_cm  product_height_cm  product_width_cm  \n",
       "0             225.0               16.0               10.0              14.0  \n",
       "1            1000.0               30.0               18.0              20.0  \n",
       "2             154.0               18.0                9.0              15.0  \n",
       "3             371.0               26.0                4.0              26.0  \n",
       "4             625.0               20.0               17.0              13.0  "
      ]
     },
     "execution_count": 17,
     "metadata": {},
     "output_type": "execute_result"
    }
   ],
   "source": [
    "df_products = info_df('olist_products_dataset.csv')\n",
    "df_products.head()"
   ]
  },
  {
   "cell_type": "markdown",
   "id": "d49c307c",
   "metadata": {},
   "source": [
    "#### Sellers_dataset"
   ]
  },
  {
   "cell_type": "code",
   "execution_count": 18,
   "id": "b1d4de65",
   "metadata": {},
   "outputs": [
    {
     "name": "stdout",
     "output_type": "stream",
     "text": [
      "The dataset olist_sellers_dataset.csv have 3095 rows and 4 columns\n",
      "The features of the dataset are :\n",
      "Index(['seller_id', 'seller_zip_code_prefix', 'seller_city', 'seller_state'], dtype='object')\n",
      "An overview of the dataset:\n"
     ]
    },
    {
     "data": {
      "text/html": [
       "<div>\n",
       "<style scoped>\n",
       "    .dataframe tbody tr th:only-of-type {\n",
       "        vertical-align: middle;\n",
       "    }\n",
       "\n",
       "    .dataframe tbody tr th {\n",
       "        vertical-align: top;\n",
       "    }\n",
       "\n",
       "    .dataframe thead th {\n",
       "        text-align: right;\n",
       "    }\n",
       "</style>\n",
       "<table border=\"1\" class=\"dataframe\">\n",
       "  <thead>\n",
       "    <tr style=\"text-align: right;\">\n",
       "      <th></th>\n",
       "      <th>seller_id</th>\n",
       "      <th>seller_zip_code_prefix</th>\n",
       "      <th>seller_city</th>\n",
       "      <th>seller_state</th>\n",
       "    </tr>\n",
       "  </thead>\n",
       "  <tbody>\n",
       "    <tr>\n",
       "      <th>0</th>\n",
       "      <td>3442f8959a84dea7ee197c632cb2df15</td>\n",
       "      <td>13023</td>\n",
       "      <td>campinas</td>\n",
       "      <td>SP</td>\n",
       "    </tr>\n",
       "    <tr>\n",
       "      <th>1</th>\n",
       "      <td>d1b65fc7debc3361ea86b5f14c68d2e2</td>\n",
       "      <td>13844</td>\n",
       "      <td>mogi guacu</td>\n",
       "      <td>SP</td>\n",
       "    </tr>\n",
       "    <tr>\n",
       "      <th>2</th>\n",
       "      <td>ce3ad9de960102d0677a81f5d0bb7b2d</td>\n",
       "      <td>20031</td>\n",
       "      <td>rio de janeiro</td>\n",
       "      <td>RJ</td>\n",
       "    </tr>\n",
       "    <tr>\n",
       "      <th>3</th>\n",
       "      <td>c0f3eea2e14555b6faeea3dd58c1b1c3</td>\n",
       "      <td>4195</td>\n",
       "      <td>sao paulo</td>\n",
       "      <td>SP</td>\n",
       "    </tr>\n",
       "    <tr>\n",
       "      <th>4</th>\n",
       "      <td>51a04a8a6bdcb23deccc82b0b80742cf</td>\n",
       "      <td>12914</td>\n",
       "      <td>braganca paulista</td>\n",
       "      <td>SP</td>\n",
       "    </tr>\n",
       "  </tbody>\n",
       "</table>\n",
       "</div>"
      ],
      "text/plain": [
       "                          seller_id  seller_zip_code_prefix  \\\n",
       "0  3442f8959a84dea7ee197c632cb2df15                   13023   \n",
       "1  d1b65fc7debc3361ea86b5f14c68d2e2                   13844   \n",
       "2  ce3ad9de960102d0677a81f5d0bb7b2d                   20031   \n",
       "3  c0f3eea2e14555b6faeea3dd58c1b1c3                    4195   \n",
       "4  51a04a8a6bdcb23deccc82b0b80742cf                   12914   \n",
       "\n",
       "         seller_city seller_state  \n",
       "0           campinas           SP  \n",
       "1         mogi guacu           SP  \n",
       "2     rio de janeiro           RJ  \n",
       "3          sao paulo           SP  \n",
       "4  braganca paulista           SP  "
      ]
     },
     "execution_count": 18,
     "metadata": {},
     "output_type": "execute_result"
    }
   ],
   "source": [
    "df_sellers = info_df('olist_sellers_dataset.csv')\n",
    "df_sellers.head()"
   ]
  },
  {
   "cell_type": "markdown",
   "id": "a0d7c5f8",
   "metadata": {},
   "source": [
    "#### Product_category_name_translation"
   ]
  },
  {
   "cell_type": "code",
   "execution_count": 19,
   "id": "71046fe7",
   "metadata": {},
   "outputs": [
    {
     "name": "stdout",
     "output_type": "stream",
     "text": [
      "The dataset product_category_name_translation.csv have 71 rows and 2 columns\n",
      "The features of the dataset are :\n",
      "Index(['product_category_name', 'product_category_name_english'], dtype='object')\n",
      "An overview of the dataset:\n"
     ]
    },
    {
     "data": {
      "text/html": [
       "<div>\n",
       "<style scoped>\n",
       "    .dataframe tbody tr th:only-of-type {\n",
       "        vertical-align: middle;\n",
       "    }\n",
       "\n",
       "    .dataframe tbody tr th {\n",
       "        vertical-align: top;\n",
       "    }\n",
       "\n",
       "    .dataframe thead th {\n",
       "        text-align: right;\n",
       "    }\n",
       "</style>\n",
       "<table border=\"1\" class=\"dataframe\">\n",
       "  <thead>\n",
       "    <tr style=\"text-align: right;\">\n",
       "      <th></th>\n",
       "      <th>product_category_name</th>\n",
       "      <th>product_category_name_english</th>\n",
       "    </tr>\n",
       "  </thead>\n",
       "  <tbody>\n",
       "    <tr>\n",
       "      <th>0</th>\n",
       "      <td>beleza_saude</td>\n",
       "      <td>health_beauty</td>\n",
       "    </tr>\n",
       "    <tr>\n",
       "      <th>1</th>\n",
       "      <td>informatica_acessorios</td>\n",
       "      <td>computers_accessories</td>\n",
       "    </tr>\n",
       "    <tr>\n",
       "      <th>2</th>\n",
       "      <td>automotivo</td>\n",
       "      <td>auto</td>\n",
       "    </tr>\n",
       "    <tr>\n",
       "      <th>3</th>\n",
       "      <td>cama_mesa_banho</td>\n",
       "      <td>bed_bath_table</td>\n",
       "    </tr>\n",
       "    <tr>\n",
       "      <th>4</th>\n",
       "      <td>moveis_decoracao</td>\n",
       "      <td>furniture_decor</td>\n",
       "    </tr>\n",
       "  </tbody>\n",
       "</table>\n",
       "</div>"
      ],
      "text/plain": [
       "    product_category_name product_category_name_english\n",
       "0            beleza_saude                 health_beauty\n",
       "1  informatica_acessorios         computers_accessories\n",
       "2              automotivo                          auto\n",
       "3         cama_mesa_banho                bed_bath_table\n",
       "4        moveis_decoracao               furniture_decor"
      ]
     },
     "execution_count": 19,
     "metadata": {},
     "output_type": "execute_result"
    }
   ],
   "source": [
    "df_transation = info_df('product_category_name_translation.csv')\n",
    "df_transation.head()"
   ]
  },
  {
   "cell_type": "markdown",
   "id": "4c796acd",
   "metadata": {},
   "source": [
    "#### Geolocation_dataset"
   ]
  },
  {
   "cell_type": "markdown",
   "id": "098b8f20",
   "metadata": {},
   "source": [
    "Analysons les prefixes des zip code:"
   ]
  },
  {
   "cell_type": "code",
   "execution_count": 20,
   "id": "63c0b84c",
   "metadata": {},
   "outputs": [
    {
     "data": {
      "text/html": [
       "<div>\n",
       "<style scoped>\n",
       "    .dataframe tbody tr th:only-of-type {\n",
       "        vertical-align: middle;\n",
       "    }\n",
       "\n",
       "    .dataframe tbody tr th {\n",
       "        vertical-align: top;\n",
       "    }\n",
       "\n",
       "    .dataframe thead th {\n",
       "        text-align: right;\n",
       "    }\n",
       "</style>\n",
       "<table border=\"1\" class=\"dataframe\">\n",
       "  <thead>\n",
       "    <tr style=\"text-align: right;\">\n",
       "      <th></th>\n",
       "      <th>geolocation_lat</th>\n",
       "      <th>geolocation_lng</th>\n",
       "      <th>geolocation_city</th>\n",
       "      <th>geolocation_state</th>\n",
       "    </tr>\n",
       "    <tr>\n",
       "      <th>geolocation_zip_code_prefix</th>\n",
       "      <th></th>\n",
       "      <th></th>\n",
       "      <th></th>\n",
       "      <th></th>\n",
       "    </tr>\n",
       "  </thead>\n",
       "  <tbody>\n",
       "    <tr>\n",
       "      <th>1001</th>\n",
       "      <td>26</td>\n",
       "      <td>26</td>\n",
       "      <td>26</td>\n",
       "      <td>26</td>\n",
       "    </tr>\n",
       "    <tr>\n",
       "      <th>1002</th>\n",
       "      <td>13</td>\n",
       "      <td>13</td>\n",
       "      <td>13</td>\n",
       "      <td>13</td>\n",
       "    </tr>\n",
       "    <tr>\n",
       "      <th>1003</th>\n",
       "      <td>17</td>\n",
       "      <td>17</td>\n",
       "      <td>17</td>\n",
       "      <td>17</td>\n",
       "    </tr>\n",
       "    <tr>\n",
       "      <th>1004</th>\n",
       "      <td>22</td>\n",
       "      <td>22</td>\n",
       "      <td>22</td>\n",
       "      <td>22</td>\n",
       "    </tr>\n",
       "    <tr>\n",
       "      <th>1005</th>\n",
       "      <td>25</td>\n",
       "      <td>25</td>\n",
       "      <td>25</td>\n",
       "      <td>25</td>\n",
       "    </tr>\n",
       "    <tr>\n",
       "      <th>...</th>\n",
       "      <td>...</td>\n",
       "      <td>...</td>\n",
       "      <td>...</td>\n",
       "      <td>...</td>\n",
       "    </tr>\n",
       "    <tr>\n",
       "      <th>99960</th>\n",
       "      <td>5</td>\n",
       "      <td>5</td>\n",
       "      <td>5</td>\n",
       "      <td>5</td>\n",
       "    </tr>\n",
       "    <tr>\n",
       "      <th>99965</th>\n",
       "      <td>6</td>\n",
       "      <td>6</td>\n",
       "      <td>6</td>\n",
       "      <td>6</td>\n",
       "    </tr>\n",
       "    <tr>\n",
       "      <th>99970</th>\n",
       "      <td>21</td>\n",
       "      <td>21</td>\n",
       "      <td>21</td>\n",
       "      <td>21</td>\n",
       "    </tr>\n",
       "    <tr>\n",
       "      <th>99980</th>\n",
       "      <td>26</td>\n",
       "      <td>26</td>\n",
       "      <td>26</td>\n",
       "      <td>26</td>\n",
       "    </tr>\n",
       "    <tr>\n",
       "      <th>99990</th>\n",
       "      <td>2</td>\n",
       "      <td>2</td>\n",
       "      <td>2</td>\n",
       "      <td>2</td>\n",
       "    </tr>\n",
       "  </tbody>\n",
       "</table>\n",
       "<p>19015 rows × 4 columns</p>\n",
       "</div>"
      ],
      "text/plain": [
       "                             geolocation_lat  geolocation_lng  \\\n",
       "geolocation_zip_code_prefix                                     \n",
       "1001                                      26               26   \n",
       "1002                                      13               13   \n",
       "1003                                      17               17   \n",
       "1004                                      22               22   \n",
       "1005                                      25               25   \n",
       "...                                      ...              ...   \n",
       "99960                                      5                5   \n",
       "99965                                      6                6   \n",
       "99970                                     21               21   \n",
       "99980                                     26               26   \n",
       "99990                                      2                2   \n",
       "\n",
       "                             geolocation_city  geolocation_state  \n",
       "geolocation_zip_code_prefix                                       \n",
       "1001                                       26                 26  \n",
       "1002                                       13                 13  \n",
       "1003                                       17                 17  \n",
       "1004                                       22                 22  \n",
       "1005                                       25                 25  \n",
       "...                                       ...                ...  \n",
       "99960                                       5                  5  \n",
       "99965                                       6                  6  \n",
       "99970                                      21                 21  \n",
       "99980                                      26                 26  \n",
       "99990                                       2                  2  \n",
       "\n",
       "[19015 rows x 4 columns]"
      ]
     },
     "execution_count": 20,
     "metadata": {},
     "output_type": "execute_result"
    }
   ],
   "source": [
    "df_geo.groupby('geolocation_zip_code_prefix').count()"
   ]
  },
  {
   "cell_type": "markdown",
   "id": "f9512f32",
   "metadata": {},
   "source": [
    "Nous décidons de considérer la moyenne des géolocalisations pour chacun des codes postaux:"
   ]
  },
  {
   "cell_type": "code",
   "execution_count": 21,
   "id": "0cb8a1b8",
   "metadata": {},
   "outputs": [
    {
     "data": {
      "text/html": [
       "<div>\n",
       "<style scoped>\n",
       "    .dataframe tbody tr th:only-of-type {\n",
       "        vertical-align: middle;\n",
       "    }\n",
       "\n",
       "    .dataframe tbody tr th {\n",
       "        vertical-align: top;\n",
       "    }\n",
       "\n",
       "    .dataframe thead th {\n",
       "        text-align: right;\n",
       "    }\n",
       "</style>\n",
       "<table border=\"1\" class=\"dataframe\">\n",
       "  <thead>\n",
       "    <tr style=\"text-align: right;\">\n",
       "      <th></th>\n",
       "      <th>geolocation_lat</th>\n",
       "      <th>geolocation_lng</th>\n",
       "    </tr>\n",
       "    <tr>\n",
       "      <th>geolocation_zip_code_prefix</th>\n",
       "      <th></th>\n",
       "      <th></th>\n",
       "    </tr>\n",
       "  </thead>\n",
       "  <tbody>\n",
       "    <tr>\n",
       "      <th>1001</th>\n",
       "      <td>-23.550190</td>\n",
       "      <td>-46.634024</td>\n",
       "    </tr>\n",
       "    <tr>\n",
       "      <th>1002</th>\n",
       "      <td>-23.548146</td>\n",
       "      <td>-46.634979</td>\n",
       "    </tr>\n",
       "    <tr>\n",
       "      <th>1003</th>\n",
       "      <td>-23.548994</td>\n",
       "      <td>-46.635731</td>\n",
       "    </tr>\n",
       "    <tr>\n",
       "      <th>1004</th>\n",
       "      <td>-23.549799</td>\n",
       "      <td>-46.634757</td>\n",
       "    </tr>\n",
       "    <tr>\n",
       "      <th>1005</th>\n",
       "      <td>-23.549456</td>\n",
       "      <td>-46.636733</td>\n",
       "    </tr>\n",
       "    <tr>\n",
       "      <th>...</th>\n",
       "      <td>...</td>\n",
       "      <td>...</td>\n",
       "    </tr>\n",
       "    <tr>\n",
       "      <th>99960</th>\n",
       "      <td>-27.953722</td>\n",
       "      <td>-52.025511</td>\n",
       "    </tr>\n",
       "    <tr>\n",
       "      <th>99965</th>\n",
       "      <td>-28.183372</td>\n",
       "      <td>-52.039850</td>\n",
       "    </tr>\n",
       "    <tr>\n",
       "      <th>99970</th>\n",
       "      <td>-28.343766</td>\n",
       "      <td>-51.874689</td>\n",
       "    </tr>\n",
       "    <tr>\n",
       "      <th>99980</th>\n",
       "      <td>-28.389129</td>\n",
       "      <td>-51.843836</td>\n",
       "    </tr>\n",
       "    <tr>\n",
       "      <th>99990</th>\n",
       "      <td>-28.329595</td>\n",
       "      <td>-51.769362</td>\n",
       "    </tr>\n",
       "  </tbody>\n",
       "</table>\n",
       "<p>19015 rows × 2 columns</p>\n",
       "</div>"
      ],
      "text/plain": [
       "                             geolocation_lat  geolocation_lng\n",
       "geolocation_zip_code_prefix                                  \n",
       "1001                              -23.550190       -46.634024\n",
       "1002                              -23.548146       -46.634979\n",
       "1003                              -23.548994       -46.635731\n",
       "1004                              -23.549799       -46.634757\n",
       "1005                              -23.549456       -46.636733\n",
       "...                                      ...              ...\n",
       "99960                             -27.953722       -52.025511\n",
       "99965                             -28.183372       -52.039850\n",
       "99970                             -28.343766       -51.874689\n",
       "99980                             -28.389129       -51.843836\n",
       "99990                             -28.329595       -51.769362\n",
       "\n",
       "[19015 rows x 2 columns]"
      ]
     },
     "execution_count": 21,
     "metadata": {},
     "output_type": "execute_result"
    }
   ],
   "source": [
    "df_geo_mean = df_geo.groupby('geolocation_zip_code_prefix').mean()\n",
    "df_geo_mean"
   ]
  },
  {
   "cell_type": "markdown",
   "id": "323cca6a",
   "metadata": {},
   "source": [
    "#### Géolocalisation des acheteurs"
   ]
  },
  {
   "cell_type": "markdown",
   "id": "ed1eee69",
   "metadata": {},
   "source": [
    "Définissons le dataframe des géolocalisations des acheteurs:"
   ]
  },
  {
   "cell_type": "code",
   "execution_count": 22,
   "id": "8fc96321",
   "metadata": {},
   "outputs": [],
   "source": [
    "df_geo_customer = pd.DataFrame({\"customer_zip_code_prefix\":df_geo_mean.index,\n",
    "                                \"geolocation_lat_customer\":df_geo_mean[\"geolocation_lat\"].values,\n",
    "                                \"geolocation_lng_customer\":df_geo_mean[\"geolocation_lng\"].values})"
   ]
  },
  {
   "cell_type": "markdown",
   "id": "f7a6b216",
   "metadata": {},
   "source": [
    "Faisons la jointure des deux jeux de données:"
   ]
  },
  {
   "cell_type": "code",
   "execution_count": 23,
   "id": "32187b14",
   "metadata": {},
   "outputs": [
    {
     "data": {
      "text/html": [
       "<div>\n",
       "<style scoped>\n",
       "    .dataframe tbody tr th:only-of-type {\n",
       "        vertical-align: middle;\n",
       "    }\n",
       "\n",
       "    .dataframe tbody tr th {\n",
       "        vertical-align: top;\n",
       "    }\n",
       "\n",
       "    .dataframe thead th {\n",
       "        text-align: right;\n",
       "    }\n",
       "</style>\n",
       "<table border=\"1\" class=\"dataframe\">\n",
       "  <thead>\n",
       "    <tr style=\"text-align: right;\">\n",
       "      <th></th>\n",
       "      <th>customer_id</th>\n",
       "      <th>customer_unique_id</th>\n",
       "      <th>customer_zip_code_prefix</th>\n",
       "      <th>customer_city</th>\n",
       "      <th>customer_state</th>\n",
       "      <th>geolocation_lat_customer</th>\n",
       "      <th>geolocation_lng_customer</th>\n",
       "    </tr>\n",
       "  </thead>\n",
       "  <tbody>\n",
       "    <tr>\n",
       "      <th>0</th>\n",
       "      <td>06b8999e2fba1a1fbc88172c00ba8bc7</td>\n",
       "      <td>861eff4711a542e4b93843c6dd7febb0</td>\n",
       "      <td>14409</td>\n",
       "      <td>franca</td>\n",
       "      <td>SP</td>\n",
       "      <td>-20.498489</td>\n",
       "      <td>-47.396929</td>\n",
       "    </tr>\n",
       "    <tr>\n",
       "      <th>1</th>\n",
       "      <td>18955e83d337fd6b2def6b18a428ac77</td>\n",
       "      <td>290c77bc529b7ac935b93aa66c333dc3</td>\n",
       "      <td>9790</td>\n",
       "      <td>sao bernardo do campo</td>\n",
       "      <td>SP</td>\n",
       "      <td>-23.727992</td>\n",
       "      <td>-46.542848</td>\n",
       "    </tr>\n",
       "    <tr>\n",
       "      <th>2</th>\n",
       "      <td>4e7b3e00288586ebd08712fdd0374a03</td>\n",
       "      <td>060e732b5b29e8181a18229c7b0b2b5e</td>\n",
       "      <td>1151</td>\n",
       "      <td>sao paulo</td>\n",
       "      <td>SP</td>\n",
       "      <td>-23.531642</td>\n",
       "      <td>-46.656289</td>\n",
       "    </tr>\n",
       "    <tr>\n",
       "      <th>3</th>\n",
       "      <td>b2b6027bc5c5109e529d4dc6358b12c3</td>\n",
       "      <td>259dac757896d24d7702b9acbbff3f3c</td>\n",
       "      <td>8775</td>\n",
       "      <td>mogi das cruzes</td>\n",
       "      <td>SP</td>\n",
       "      <td>-23.499702</td>\n",
       "      <td>-46.185233</td>\n",
       "    </tr>\n",
       "    <tr>\n",
       "      <th>4</th>\n",
       "      <td>4f2d8ab171c80ec8364f7c12e35b23ad</td>\n",
       "      <td>345ecd01c38d18a9036ed96c73b8d066</td>\n",
       "      <td>13056</td>\n",
       "      <td>campinas</td>\n",
       "      <td>SP</td>\n",
       "      <td>-22.975100</td>\n",
       "      <td>-47.142925</td>\n",
       "    </tr>\n",
       "  </tbody>\n",
       "</table>\n",
       "</div>"
      ],
      "text/plain": [
       "                        customer_id                customer_unique_id  \\\n",
       "0  06b8999e2fba1a1fbc88172c00ba8bc7  861eff4711a542e4b93843c6dd7febb0   \n",
       "1  18955e83d337fd6b2def6b18a428ac77  290c77bc529b7ac935b93aa66c333dc3   \n",
       "2  4e7b3e00288586ebd08712fdd0374a03  060e732b5b29e8181a18229c7b0b2b5e   \n",
       "3  b2b6027bc5c5109e529d4dc6358b12c3  259dac757896d24d7702b9acbbff3f3c   \n",
       "4  4f2d8ab171c80ec8364f7c12e35b23ad  345ecd01c38d18a9036ed96c73b8d066   \n",
       "\n",
       "   customer_zip_code_prefix          customer_city customer_state  \\\n",
       "0                     14409                 franca             SP   \n",
       "1                      9790  sao bernardo do campo             SP   \n",
       "2                      1151              sao paulo             SP   \n",
       "3                      8775        mogi das cruzes             SP   \n",
       "4                     13056               campinas             SP   \n",
       "\n",
       "   geolocation_lat_customer  geolocation_lng_customer  \n",
       "0                -20.498489                -47.396929  \n",
       "1                -23.727992                -46.542848  \n",
       "2                -23.531642                -46.656289  \n",
       "3                -23.499702                -46.185233  \n",
       "4                -22.975100                -47.142925  "
      ]
     },
     "execution_count": 23,
     "metadata": {},
     "output_type": "execute_result"
    }
   ],
   "source": [
    "df_customers = df_customers.merge(df_geo_customer, how='left', on='customer_zip_code_prefix')\n",
    "df_customers.head()"
   ]
  },
  {
   "cell_type": "markdown",
   "id": "530ffb37",
   "metadata": {},
   "source": [
    "####  Géolocalisation des vendeurs"
   ]
  },
  {
   "cell_type": "markdown",
   "id": "0c93c028",
   "metadata": {},
   "source": [
    "Définissons le dataframe des géolocalisations des vendeurs:"
   ]
  },
  {
   "cell_type": "code",
   "execution_count": 24,
   "id": "b9d0a57c",
   "metadata": {},
   "outputs": [],
   "source": [
    "df_geo_sellers = pd.DataFrame({\"seller_zip_code_prefix\":df_geo_mean.index,\n",
    "                              \"geolocation_lat_seller\":df_geo_mean[\"geolocation_lat\"].values,\n",
    "                              \"geolocation_lng_seller\":df_geo_mean[\"geolocation_lng\"].values})"
   ]
  },
  {
   "cell_type": "markdown",
   "id": "d22a48b6",
   "metadata": {},
   "source": [
    "Faisons la jointure des deux jeux de données:"
   ]
  },
  {
   "cell_type": "code",
   "execution_count": 25,
   "id": "183bab6e",
   "metadata": {},
   "outputs": [
    {
     "data": {
      "text/html": [
       "<div>\n",
       "<style scoped>\n",
       "    .dataframe tbody tr th:only-of-type {\n",
       "        vertical-align: middle;\n",
       "    }\n",
       "\n",
       "    .dataframe tbody tr th {\n",
       "        vertical-align: top;\n",
       "    }\n",
       "\n",
       "    .dataframe thead th {\n",
       "        text-align: right;\n",
       "    }\n",
       "</style>\n",
       "<table border=\"1\" class=\"dataframe\">\n",
       "  <thead>\n",
       "    <tr style=\"text-align: right;\">\n",
       "      <th></th>\n",
       "      <th>seller_id</th>\n",
       "      <th>seller_zip_code_prefix</th>\n",
       "      <th>seller_city</th>\n",
       "      <th>seller_state</th>\n",
       "      <th>geolocation_lat_seller</th>\n",
       "      <th>geolocation_lng_seller</th>\n",
       "    </tr>\n",
       "  </thead>\n",
       "  <tbody>\n",
       "    <tr>\n",
       "      <th>0</th>\n",
       "      <td>3442f8959a84dea7ee197c632cb2df15</td>\n",
       "      <td>13023</td>\n",
       "      <td>campinas</td>\n",
       "      <td>SP</td>\n",
       "      <td>-22.893848</td>\n",
       "      <td>-47.061337</td>\n",
       "    </tr>\n",
       "    <tr>\n",
       "      <th>1</th>\n",
       "      <td>d1b65fc7debc3361ea86b5f14c68d2e2</td>\n",
       "      <td>13844</td>\n",
       "      <td>mogi guacu</td>\n",
       "      <td>SP</td>\n",
       "      <td>-22.383437</td>\n",
       "      <td>-46.947927</td>\n",
       "    </tr>\n",
       "    <tr>\n",
       "      <th>2</th>\n",
       "      <td>ce3ad9de960102d0677a81f5d0bb7b2d</td>\n",
       "      <td>20031</td>\n",
       "      <td>rio de janeiro</td>\n",
       "      <td>RJ</td>\n",
       "      <td>-22.909572</td>\n",
       "      <td>-43.177703</td>\n",
       "    </tr>\n",
       "    <tr>\n",
       "      <th>3</th>\n",
       "      <td>c0f3eea2e14555b6faeea3dd58c1b1c3</td>\n",
       "      <td>4195</td>\n",
       "      <td>sao paulo</td>\n",
       "      <td>SP</td>\n",
       "      <td>-23.657242</td>\n",
       "      <td>-46.612831</td>\n",
       "    </tr>\n",
       "    <tr>\n",
       "      <th>4</th>\n",
       "      <td>51a04a8a6bdcb23deccc82b0b80742cf</td>\n",
       "      <td>12914</td>\n",
       "      <td>braganca paulista</td>\n",
       "      <td>SP</td>\n",
       "      <td>-22.964803</td>\n",
       "      <td>-46.534419</td>\n",
       "    </tr>\n",
       "  </tbody>\n",
       "</table>\n",
       "</div>"
      ],
      "text/plain": [
       "                          seller_id  seller_zip_code_prefix  \\\n",
       "0  3442f8959a84dea7ee197c632cb2df15                   13023   \n",
       "1  d1b65fc7debc3361ea86b5f14c68d2e2                   13844   \n",
       "2  ce3ad9de960102d0677a81f5d0bb7b2d                   20031   \n",
       "3  c0f3eea2e14555b6faeea3dd58c1b1c3                    4195   \n",
       "4  51a04a8a6bdcb23deccc82b0b80742cf                   12914   \n",
       "\n",
       "         seller_city seller_state  geolocation_lat_seller  \\\n",
       "0           campinas           SP              -22.893848   \n",
       "1         mogi guacu           SP              -22.383437   \n",
       "2     rio de janeiro           RJ              -22.909572   \n",
       "3          sao paulo           SP              -23.657242   \n",
       "4  braganca paulista           SP              -22.964803   \n",
       "\n",
       "   geolocation_lng_seller  \n",
       "0              -47.061337  \n",
       "1              -46.947927  \n",
       "2              -43.177703  \n",
       "3              -46.612831  \n",
       "4              -46.534419  "
      ]
     },
     "execution_count": 25,
     "metadata": {},
     "output_type": "execute_result"
    }
   ],
   "source": [
    "df_sellers = df_sellers.merge(df_geo_sellers, how='left', on='seller_zip_code_prefix')\n",
    "df_sellers.head()"
   ]
  },
  {
   "cell_type": "markdown",
   "id": "a669af88",
   "metadata": {},
   "source": [
    "#### Noms des produits"
   ]
  },
  {
   "cell_type": "markdown",
   "id": "7ab05ef2",
   "metadata": {},
   "source": [
    "Nous allons joindre les deux jeux de données afin d'avoir le nom des produits en anglais:"
   ]
  },
  {
   "cell_type": "code",
   "execution_count": 26,
   "id": "58bf2530",
   "metadata": {},
   "outputs": [],
   "source": [
    "df_products = df_products.merge(df_transation, how='left', on='product_category_name')"
   ]
  },
  {
   "cell_type": "markdown",
   "id": "bb42c3d8",
   "metadata": {},
   "source": [
    "Nous éliminons le noms de produits en portugais:"
   ]
  },
  {
   "cell_type": "code",
   "execution_count": 27,
   "id": "5124f3ea",
   "metadata": {},
   "outputs": [
    {
     "data": {
      "text/html": [
       "<div>\n",
       "<style scoped>\n",
       "    .dataframe tbody tr th:only-of-type {\n",
       "        vertical-align: middle;\n",
       "    }\n",
       "\n",
       "    .dataframe tbody tr th {\n",
       "        vertical-align: top;\n",
       "    }\n",
       "\n",
       "    .dataframe thead th {\n",
       "        text-align: right;\n",
       "    }\n",
       "</style>\n",
       "<table border=\"1\" class=\"dataframe\">\n",
       "  <thead>\n",
       "    <tr style=\"text-align: right;\">\n",
       "      <th></th>\n",
       "      <th>product_id</th>\n",
       "      <th>product_name_lenght</th>\n",
       "      <th>product_description_lenght</th>\n",
       "      <th>product_photos_qty</th>\n",
       "      <th>product_weight_g</th>\n",
       "      <th>product_length_cm</th>\n",
       "      <th>product_height_cm</th>\n",
       "      <th>product_width_cm</th>\n",
       "      <th>product_category_name_english</th>\n",
       "    </tr>\n",
       "  </thead>\n",
       "  <tbody>\n",
       "    <tr>\n",
       "      <th>0</th>\n",
       "      <td>1e9e8ef04dbcff4541ed26657ea517e5</td>\n",
       "      <td>40.0</td>\n",
       "      <td>287.0</td>\n",
       "      <td>1.0</td>\n",
       "      <td>225.0</td>\n",
       "      <td>16.0</td>\n",
       "      <td>10.0</td>\n",
       "      <td>14.0</td>\n",
       "      <td>perfumery</td>\n",
       "    </tr>\n",
       "    <tr>\n",
       "      <th>1</th>\n",
       "      <td>3aa071139cb16b67ca9e5dea641aaa2f</td>\n",
       "      <td>44.0</td>\n",
       "      <td>276.0</td>\n",
       "      <td>1.0</td>\n",
       "      <td>1000.0</td>\n",
       "      <td>30.0</td>\n",
       "      <td>18.0</td>\n",
       "      <td>20.0</td>\n",
       "      <td>art</td>\n",
       "    </tr>\n",
       "    <tr>\n",
       "      <th>2</th>\n",
       "      <td>96bd76ec8810374ed1b65e291975717f</td>\n",
       "      <td>46.0</td>\n",
       "      <td>250.0</td>\n",
       "      <td>1.0</td>\n",
       "      <td>154.0</td>\n",
       "      <td>18.0</td>\n",
       "      <td>9.0</td>\n",
       "      <td>15.0</td>\n",
       "      <td>sports_leisure</td>\n",
       "    </tr>\n",
       "    <tr>\n",
       "      <th>3</th>\n",
       "      <td>cef67bcfe19066a932b7673e239eb23d</td>\n",
       "      <td>27.0</td>\n",
       "      <td>261.0</td>\n",
       "      <td>1.0</td>\n",
       "      <td>371.0</td>\n",
       "      <td>26.0</td>\n",
       "      <td>4.0</td>\n",
       "      <td>26.0</td>\n",
       "      <td>baby</td>\n",
       "    </tr>\n",
       "    <tr>\n",
       "      <th>4</th>\n",
       "      <td>9dc1a7de274444849c219cff195d0b71</td>\n",
       "      <td>37.0</td>\n",
       "      <td>402.0</td>\n",
       "      <td>4.0</td>\n",
       "      <td>625.0</td>\n",
       "      <td>20.0</td>\n",
       "      <td>17.0</td>\n",
       "      <td>13.0</td>\n",
       "      <td>housewares</td>\n",
       "    </tr>\n",
       "  </tbody>\n",
       "</table>\n",
       "</div>"
      ],
      "text/plain": [
       "                         product_id  product_name_lenght  \\\n",
       "0  1e9e8ef04dbcff4541ed26657ea517e5                 40.0   \n",
       "1  3aa071139cb16b67ca9e5dea641aaa2f                 44.0   \n",
       "2  96bd76ec8810374ed1b65e291975717f                 46.0   \n",
       "3  cef67bcfe19066a932b7673e239eb23d                 27.0   \n",
       "4  9dc1a7de274444849c219cff195d0b71                 37.0   \n",
       "\n",
       "   product_description_lenght  product_photos_qty  product_weight_g  \\\n",
       "0                       287.0                 1.0             225.0   \n",
       "1                       276.0                 1.0            1000.0   \n",
       "2                       250.0                 1.0             154.0   \n",
       "3                       261.0                 1.0             371.0   \n",
       "4                       402.0                 4.0             625.0   \n",
       "\n",
       "   product_length_cm  product_height_cm  product_width_cm  \\\n",
       "0               16.0               10.0              14.0   \n",
       "1               30.0               18.0              20.0   \n",
       "2               18.0                9.0              15.0   \n",
       "3               26.0                4.0              26.0   \n",
       "4               20.0               17.0              13.0   \n",
       "\n",
       "  product_category_name_english  \n",
       "0                     perfumery  \n",
       "1                           art  \n",
       "2                sports_leisure  \n",
       "3                          baby  \n",
       "4                    housewares  "
      ]
     },
     "execution_count": 27,
     "metadata": {},
     "output_type": "execute_result"
    }
   ],
   "source": [
    "df_products.drop('product_category_name', axis=1, inplace=True)\n",
    "df_products.head()"
   ]
  },
  {
   "cell_type": "markdown",
   "id": "67e6d634",
   "metadata": {},
   "source": [
    "### Préparation  du jeu de donnée des commandes"
   ]
  },
  {
   "cell_type": "markdown",
   "id": "614687b4",
   "metadata": {},
   "source": [
    "Nous allons créer le fichier des commandes en regroupant les différents jeux de données:"
   ]
  },
  {
   "cell_type": "code",
   "execution_count": 28,
   "id": "1f10d85b",
   "metadata": {},
   "outputs": [],
   "source": [
    "df_orders = df_orders_.merge(df_customers, how='outer', on='customer_id')\n",
    "df_orders = df_orders.merge(df_reviews, how='outer', on='order_id')\n",
    "df_orders = df_orders.merge(df_payments, how='outer', on='order_id')\n",
    "df_orders = df_orders.merge(df_items, how='outer', on='order_id')\n",
    "df_orders = df_orders.merge(df_products, how='outer', on='product_id')\n",
    "df_orders = df_orders.merge(df_sellers, how='outer', on='seller_id')"
   ]
  },
  {
   "cell_type": "markdown",
   "id": "d0080fb3",
   "metadata": {},
   "source": [
    "Vérifions les doublons sur l'identifiant unique des commandes des clients:"
   ]
  },
  {
   "cell_type": "code",
   "execution_count": 29,
   "id": "2f481ef2",
   "metadata": {},
   "outputs": [
    {
     "data": {
      "text/plain": [
       "19702"
      ]
     },
     "execution_count": 29,
     "metadata": {},
     "output_type": "execute_result"
    }
   ],
   "source": [
    "df_orders.duplicated('customer_id').sum()"
   ]
  },
  {
   "cell_type": "markdown",
   "id": "7057b0a9",
   "metadata": {},
   "source": [
    "Eliminons les doublons:"
   ]
  },
  {
   "cell_type": "code",
   "execution_count": 30,
   "id": "e1c8c158",
   "metadata": {},
   "outputs": [],
   "source": [
    "df_orders = df_orders.drop_duplicates(subset={'customer_id'}, keep='first')\n",
    "df_orders = df_orders.reindex()"
   ]
  },
  {
   "cell_type": "markdown",
   "id": "cb748d77",
   "metadata": {},
   "source": [
    "Listons les features:"
   ]
  },
  {
   "cell_type": "code",
   "execution_count": 31,
   "id": "88ae69fc",
   "metadata": {},
   "outputs": [
    {
     "data": {
      "text/plain": [
       "Index(['order_id', 'customer_id', 'order_status', 'order_purchase_timestamp',\n",
       "       'order_approved_at', 'order_delivered_carrier_date',\n",
       "       'order_delivered_customer_date', 'order_estimated_delivery_date',\n",
       "       'customer_unique_id', 'customer_zip_code_prefix', 'customer_city',\n",
       "       'customer_state', 'geolocation_lat_customer',\n",
       "       'geolocation_lng_customer', 'review_id', 'review_score',\n",
       "       'review_comment_title', 'review_comment_message',\n",
       "       'review_creation_date', 'review_answer_timestamp', 'payment_sequential',\n",
       "       'payment_type', 'payment_installments', 'payment_value',\n",
       "       'order_item_id', 'product_id', 'seller_id', 'shipping_limit_date',\n",
       "       'price', 'freight_value', 'product_name_lenght',\n",
       "       'product_description_lenght', 'product_photos_qty', 'product_weight_g',\n",
       "       'product_length_cm', 'product_height_cm', 'product_width_cm',\n",
       "       'product_category_name_english', 'seller_zip_code_prefix',\n",
       "       'seller_city', 'seller_state', 'geolocation_lat_seller',\n",
       "       'geolocation_lng_seller'],\n",
       "      dtype='object')"
      ]
     },
     "execution_count": 31,
     "metadata": {},
     "output_type": "execute_result"
    }
   ],
   "source": [
    "df_orders.columns"
   ]
  },
  {
   "cell_type": "markdown",
   "id": "3c1b7fdd",
   "metadata": {},
   "source": [
    "Un aperçu :"
   ]
  },
  {
   "cell_type": "code",
   "execution_count": 32,
   "id": "c3596f0c",
   "metadata": {},
   "outputs": [
    {
     "data": {
      "text/html": [
       "<div>\n",
       "<style scoped>\n",
       "    .dataframe tbody tr th:only-of-type {\n",
       "        vertical-align: middle;\n",
       "    }\n",
       "\n",
       "    .dataframe tbody tr th {\n",
       "        vertical-align: top;\n",
       "    }\n",
       "\n",
       "    .dataframe thead th {\n",
       "        text-align: right;\n",
       "    }\n",
       "</style>\n",
       "<table border=\"1\" class=\"dataframe\">\n",
       "  <thead>\n",
       "    <tr style=\"text-align: right;\">\n",
       "      <th></th>\n",
       "      <th>order_id</th>\n",
       "      <th>customer_id</th>\n",
       "      <th>order_status</th>\n",
       "      <th>order_purchase_timestamp</th>\n",
       "      <th>order_approved_at</th>\n",
       "      <th>order_delivered_carrier_date</th>\n",
       "      <th>order_delivered_customer_date</th>\n",
       "      <th>order_estimated_delivery_date</th>\n",
       "      <th>customer_unique_id</th>\n",
       "      <th>customer_zip_code_prefix</th>\n",
       "      <th>...</th>\n",
       "      <th>product_weight_g</th>\n",
       "      <th>product_length_cm</th>\n",
       "      <th>product_height_cm</th>\n",
       "      <th>product_width_cm</th>\n",
       "      <th>product_category_name_english</th>\n",
       "      <th>seller_zip_code_prefix</th>\n",
       "      <th>seller_city</th>\n",
       "      <th>seller_state</th>\n",
       "      <th>geolocation_lat_seller</th>\n",
       "      <th>geolocation_lng_seller</th>\n",
       "    </tr>\n",
       "  </thead>\n",
       "  <tbody>\n",
       "    <tr>\n",
       "      <th>0</th>\n",
       "      <td>e481f51cbdc54678b7cc49136f2d6af7</td>\n",
       "      <td>9ef432eb6251297304e76186b10a928d</td>\n",
       "      <td>delivered</td>\n",
       "      <td>2017-10-02 10:56:33</td>\n",
       "      <td>2017-10-02 11:07:15</td>\n",
       "      <td>2017-10-04 19:55:00</td>\n",
       "      <td>2017-10-10 21:25:13</td>\n",
       "      <td>2017-10-18 00:00:00</td>\n",
       "      <td>7c396fd4830fd04220f754e42b4e5bff</td>\n",
       "      <td>3149</td>\n",
       "      <td>...</td>\n",
       "      <td>500.0</td>\n",
       "      <td>19.0</td>\n",
       "      <td>8.0</td>\n",
       "      <td>13.0</td>\n",
       "      <td>housewares</td>\n",
       "      <td>9350.0</td>\n",
       "      <td>maua</td>\n",
       "      <td>SP</td>\n",
       "      <td>-23.680729</td>\n",
       "      <td>-46.444238</td>\n",
       "    </tr>\n",
       "    <tr>\n",
       "      <th>3</th>\n",
       "      <td>128e10d95713541c87cd1a2e48201934</td>\n",
       "      <td>a20e8105f23924cd00833fd87daa0831</td>\n",
       "      <td>delivered</td>\n",
       "      <td>2017-08-15 18:29:31</td>\n",
       "      <td>2017-08-15 20:05:16</td>\n",
       "      <td>2017-08-17 15:28:33</td>\n",
       "      <td>2017-08-18 14:44:43</td>\n",
       "      <td>2017-08-28 00:00:00</td>\n",
       "      <td>3a51803cc0d012c3b5dc8b7528cb05f7</td>\n",
       "      <td>3366</td>\n",
       "      <td>...</td>\n",
       "      <td>500.0</td>\n",
       "      <td>19.0</td>\n",
       "      <td>8.0</td>\n",
       "      <td>13.0</td>\n",
       "      <td>housewares</td>\n",
       "      <td>9350.0</td>\n",
       "      <td>maua</td>\n",
       "      <td>SP</td>\n",
       "      <td>-23.680729</td>\n",
       "      <td>-46.444238</td>\n",
       "    </tr>\n",
       "    <tr>\n",
       "      <th>4</th>\n",
       "      <td>0e7e841ddf8f8f2de2bad69267ecfbcf</td>\n",
       "      <td>26c7ac168e1433912a51b924fbd34d34</td>\n",
       "      <td>delivered</td>\n",
       "      <td>2017-08-02 18:24:47</td>\n",
       "      <td>2017-08-02 18:43:15</td>\n",
       "      <td>2017-08-04 17:35:43</td>\n",
       "      <td>2017-08-07 18:30:01</td>\n",
       "      <td>2017-08-15 00:00:00</td>\n",
       "      <td>ef0996a1a279c26e7ecbd737be23d235</td>\n",
       "      <td>2290</td>\n",
       "      <td>...</td>\n",
       "      <td>500.0</td>\n",
       "      <td>19.0</td>\n",
       "      <td>8.0</td>\n",
       "      <td>13.0</td>\n",
       "      <td>housewares</td>\n",
       "      <td>9350.0</td>\n",
       "      <td>maua</td>\n",
       "      <td>SP</td>\n",
       "      <td>-23.680729</td>\n",
       "      <td>-46.444238</td>\n",
       "    </tr>\n",
       "    <tr>\n",
       "      <th>5</th>\n",
       "      <td>bfc39df4f36c3693ff3b63fcbea9e90a</td>\n",
       "      <td>53904ddbea91e1e92b2b3f1d09a7af86</td>\n",
       "      <td>delivered</td>\n",
       "      <td>2017-10-23 23:26:46</td>\n",
       "      <td>2017-10-25 02:14:11</td>\n",
       "      <td>2017-10-27 16:48:46</td>\n",
       "      <td>2017-11-07 18:04:59</td>\n",
       "      <td>2017-11-13 00:00:00</td>\n",
       "      <td>e781fdcc107d13d865fc7698711cc572</td>\n",
       "      <td>88032</td>\n",
       "      <td>...</td>\n",
       "      <td>500.0</td>\n",
       "      <td>19.0</td>\n",
       "      <td>8.0</td>\n",
       "      <td>13.0</td>\n",
       "      <td>housewares</td>\n",
       "      <td>9350.0</td>\n",
       "      <td>maua</td>\n",
       "      <td>SP</td>\n",
       "      <td>-23.680729</td>\n",
       "      <td>-46.444238</td>\n",
       "    </tr>\n",
       "    <tr>\n",
       "      <th>6</th>\n",
       "      <td>8736140c61ea584cb4250074756d8f3b</td>\n",
       "      <td>ab8844663ae049fda8baf15fc928f47f</td>\n",
       "      <td>delivered</td>\n",
       "      <td>2017-08-10 13:35:55</td>\n",
       "      <td>2017-08-10 13:50:09</td>\n",
       "      <td>2017-08-11 13:52:35</td>\n",
       "      <td>2017-08-16 19:03:36</td>\n",
       "      <td>2017-08-23 00:00:00</td>\n",
       "      <td>02c9e0c05a817d4562ec0e8c90f29dba</td>\n",
       "      <td>8577</td>\n",
       "      <td>...</td>\n",
       "      <td>238.0</td>\n",
       "      <td>20.0</td>\n",
       "      <td>10.0</td>\n",
       "      <td>15.0</td>\n",
       "      <td>baby</td>\n",
       "      <td>9350.0</td>\n",
       "      <td>maua</td>\n",
       "      <td>SP</td>\n",
       "      <td>-23.680729</td>\n",
       "      <td>-46.444238</td>\n",
       "    </tr>\n",
       "  </tbody>\n",
       "</table>\n",
       "<p>5 rows × 43 columns</p>\n",
       "</div>"
      ],
      "text/plain": [
       "                           order_id                       customer_id  \\\n",
       "0  e481f51cbdc54678b7cc49136f2d6af7  9ef432eb6251297304e76186b10a928d   \n",
       "3  128e10d95713541c87cd1a2e48201934  a20e8105f23924cd00833fd87daa0831   \n",
       "4  0e7e841ddf8f8f2de2bad69267ecfbcf  26c7ac168e1433912a51b924fbd34d34   \n",
       "5  bfc39df4f36c3693ff3b63fcbea9e90a  53904ddbea91e1e92b2b3f1d09a7af86   \n",
       "6  8736140c61ea584cb4250074756d8f3b  ab8844663ae049fda8baf15fc928f47f   \n",
       "\n",
       "  order_status order_purchase_timestamp    order_approved_at  \\\n",
       "0    delivered      2017-10-02 10:56:33  2017-10-02 11:07:15   \n",
       "3    delivered      2017-08-15 18:29:31  2017-08-15 20:05:16   \n",
       "4    delivered      2017-08-02 18:24:47  2017-08-02 18:43:15   \n",
       "5    delivered      2017-10-23 23:26:46  2017-10-25 02:14:11   \n",
       "6    delivered      2017-08-10 13:35:55  2017-08-10 13:50:09   \n",
       "\n",
       "  order_delivered_carrier_date order_delivered_customer_date  \\\n",
       "0          2017-10-04 19:55:00           2017-10-10 21:25:13   \n",
       "3          2017-08-17 15:28:33           2017-08-18 14:44:43   \n",
       "4          2017-08-04 17:35:43           2017-08-07 18:30:01   \n",
       "5          2017-10-27 16:48:46           2017-11-07 18:04:59   \n",
       "6          2017-08-11 13:52:35           2017-08-16 19:03:36   \n",
       "\n",
       "  order_estimated_delivery_date                customer_unique_id  \\\n",
       "0           2017-10-18 00:00:00  7c396fd4830fd04220f754e42b4e5bff   \n",
       "3           2017-08-28 00:00:00  3a51803cc0d012c3b5dc8b7528cb05f7   \n",
       "4           2017-08-15 00:00:00  ef0996a1a279c26e7ecbd737be23d235   \n",
       "5           2017-11-13 00:00:00  e781fdcc107d13d865fc7698711cc572   \n",
       "6           2017-08-23 00:00:00  02c9e0c05a817d4562ec0e8c90f29dba   \n",
       "\n",
       "   customer_zip_code_prefix  ... product_weight_g product_length_cm  \\\n",
       "0                      3149  ...            500.0              19.0   \n",
       "3                      3366  ...            500.0              19.0   \n",
       "4                      2290  ...            500.0              19.0   \n",
       "5                     88032  ...            500.0              19.0   \n",
       "6                      8577  ...            238.0              20.0   \n",
       "\n",
       "   product_height_cm  product_width_cm product_category_name_english  \\\n",
       "0                8.0              13.0                    housewares   \n",
       "3                8.0              13.0                    housewares   \n",
       "4                8.0              13.0                    housewares   \n",
       "5                8.0              13.0                    housewares   \n",
       "6               10.0              15.0                          baby   \n",
       "\n",
       "   seller_zip_code_prefix seller_city seller_state geolocation_lat_seller  \\\n",
       "0                  9350.0        maua           SP             -23.680729   \n",
       "3                  9350.0        maua           SP             -23.680729   \n",
       "4                  9350.0        maua           SP             -23.680729   \n",
       "5                  9350.0        maua           SP             -23.680729   \n",
       "6                  9350.0        maua           SP             -23.680729   \n",
       "\n",
       "  geolocation_lng_seller  \n",
       "0             -46.444238  \n",
       "3             -46.444238  \n",
       "4             -46.444238  \n",
       "5             -46.444238  \n",
       "6             -46.444238  \n",
       "\n",
       "[5 rows x 43 columns]"
      ]
     },
     "execution_count": 32,
     "metadata": {},
     "output_type": "execute_result"
    }
   ],
   "source": [
    "df_orders.head()"
   ]
  },
  {
   "cell_type": "markdown",
   "id": "1f597125",
   "metadata": {},
   "source": [
    "Analysons le jeu de données:"
   ]
  },
  {
   "cell_type": "code",
   "execution_count": 33,
   "id": "de7cdcea",
   "metadata": {},
   "outputs": [
    {
     "data": {
      "text/html": [
       "<div>\n",
       "<style scoped>\n",
       "    .dataframe tbody tr th:only-of-type {\n",
       "        vertical-align: middle;\n",
       "    }\n",
       "\n",
       "    .dataframe tbody tr th {\n",
       "        vertical-align: top;\n",
       "    }\n",
       "\n",
       "    .dataframe thead th {\n",
       "        text-align: right;\n",
       "    }\n",
       "</style>\n",
       "<table border=\"1\" class=\"dataframe\">\n",
       "  <thead>\n",
       "    <tr style=\"text-align: right;\">\n",
       "      <th></th>\n",
       "      <th>customer_zip_code_prefix</th>\n",
       "      <th>geolocation_lat_customer</th>\n",
       "      <th>geolocation_lng_customer</th>\n",
       "      <th>review_score</th>\n",
       "      <th>payment_sequential</th>\n",
       "      <th>payment_installments</th>\n",
       "      <th>payment_value</th>\n",
       "      <th>order_item_id</th>\n",
       "      <th>price</th>\n",
       "      <th>freight_value</th>\n",
       "      <th>product_name_lenght</th>\n",
       "      <th>product_description_lenght</th>\n",
       "      <th>product_photos_qty</th>\n",
       "      <th>product_weight_g</th>\n",
       "      <th>product_length_cm</th>\n",
       "      <th>product_height_cm</th>\n",
       "      <th>product_width_cm</th>\n",
       "      <th>seller_zip_code_prefix</th>\n",
       "      <th>geolocation_lat_seller</th>\n",
       "      <th>geolocation_lng_seller</th>\n",
       "    </tr>\n",
       "  </thead>\n",
       "  <tbody>\n",
       "    <tr>\n",
       "      <th>count</th>\n",
       "      <td>99441.000000</td>\n",
       "      <td>99163.000000</td>\n",
       "      <td>99163.000000</td>\n",
       "      <td>98673.000000</td>\n",
       "      <td>99440.000000</td>\n",
       "      <td>99440.000000</td>\n",
       "      <td>99440.000000</td>\n",
       "      <td>98666.000000</td>\n",
       "      <td>98666.000000</td>\n",
       "      <td>98666.000000</td>\n",
       "      <td>97253.000000</td>\n",
       "      <td>97253.000000</td>\n",
       "      <td>97253.000000</td>\n",
       "      <td>98650.000000</td>\n",
       "      <td>98650.000000</td>\n",
       "      <td>98650.000000</td>\n",
       "      <td>98650.000000</td>\n",
       "      <td>98666.000000</td>\n",
       "      <td>98450.000000</td>\n",
       "      <td>98450.000000</td>\n",
       "    </tr>\n",
       "    <tr>\n",
       "      <th>mean</th>\n",
       "      <td>35137.474583</td>\n",
       "      <td>-21.191224</td>\n",
       "      <td>-46.175442</td>\n",
       "      <td>4.086853</td>\n",
       "      <td>1.022878</td>\n",
       "      <td>2.915617</td>\n",
       "      <td>158.334781</td>\n",
       "      <td>1.016449</td>\n",
       "      <td>125.945710</td>\n",
       "      <td>20.181896</td>\n",
       "      <td>48.855912</td>\n",
       "      <td>794.048934</td>\n",
       "      <td>2.250316</td>\n",
       "      <td>2104.060274</td>\n",
       "      <td>30.107106</td>\n",
       "      <td>16.482433</td>\n",
       "      <td>23.023528</td>\n",
       "      <td>24607.951189</td>\n",
       "      <td>-22.794132</td>\n",
       "      <td>-47.221691</td>\n",
       "    </tr>\n",
       "    <tr>\n",
       "      <th>std</th>\n",
       "      <td>29797.938996</td>\n",
       "      <td>5.608637</td>\n",
       "      <td>4.056067</td>\n",
       "      <td>1.347287</td>\n",
       "      <td>0.250282</td>\n",
       "      <td>2.709861</td>\n",
       "      <td>219.518488</td>\n",
       "      <td>0.145693</td>\n",
       "      <td>191.337419</td>\n",
       "      <td>15.899848</td>\n",
       "      <td>9.993163</td>\n",
       "      <td>654.677745</td>\n",
       "      <td>1.746295</td>\n",
       "      <td>3766.119528</td>\n",
       "      <td>16.137012</td>\n",
       "      <td>13.324701</td>\n",
       "      <td>11.740267</td>\n",
       "      <td>27688.089902</td>\n",
       "      <td>2.747566</td>\n",
       "      <td>2.346849</td>\n",
       "    </tr>\n",
       "    <tr>\n",
       "      <th>min</th>\n",
       "      <td>1003.000000</td>\n",
       "      <td>-33.689948</td>\n",
       "      <td>-72.668881</td>\n",
       "      <td>1.000000</td>\n",
       "      <td>1.000000</td>\n",
       "      <td>0.000000</td>\n",
       "      <td>0.000000</td>\n",
       "      <td>1.000000</td>\n",
       "      <td>0.850000</td>\n",
       "      <td>0.000000</td>\n",
       "      <td>5.000000</td>\n",
       "      <td>4.000000</td>\n",
       "      <td>1.000000</td>\n",
       "      <td>0.000000</td>\n",
       "      <td>7.000000</td>\n",
       "      <td>2.000000</td>\n",
       "      <td>6.000000</td>\n",
       "      <td>1001.000000</td>\n",
       "      <td>-32.079231</td>\n",
       "      <td>-67.813284</td>\n",
       "    </tr>\n",
       "    <tr>\n",
       "      <th>25%</th>\n",
       "      <td>11347.000000</td>\n",
       "      <td>-23.589378</td>\n",
       "      <td>-48.097950</td>\n",
       "      <td>4.000000</td>\n",
       "      <td>1.000000</td>\n",
       "      <td>1.000000</td>\n",
       "      <td>60.050000</td>\n",
       "      <td>1.000000</td>\n",
       "      <td>41.737500</td>\n",
       "      <td>13.270000</td>\n",
       "      <td>42.000000</td>\n",
       "      <td>349.000000</td>\n",
       "      <td>1.000000</td>\n",
       "      <td>300.000000</td>\n",
       "      <td>18.000000</td>\n",
       "      <td>8.000000</td>\n",
       "      <td>15.000000</td>\n",
       "      <td>6429.000000</td>\n",
       "      <td>-23.612734</td>\n",
       "      <td>-48.796518</td>\n",
       "    </tr>\n",
       "    <tr>\n",
       "      <th>50%</th>\n",
       "      <td>24416.000000</td>\n",
       "      <td>-22.924970</td>\n",
       "      <td>-46.630647</td>\n",
       "      <td>5.000000</td>\n",
       "      <td>1.000000</td>\n",
       "      <td>2.000000</td>\n",
       "      <td>103.350000</td>\n",
       "      <td>1.000000</td>\n",
       "      <td>79.000000</td>\n",
       "      <td>16.350000</td>\n",
       "      <td>52.000000</td>\n",
       "      <td>607.000000</td>\n",
       "      <td>2.000000</td>\n",
       "      <td>700.000000</td>\n",
       "      <td>25.000000</td>\n",
       "      <td>13.000000</td>\n",
       "      <td>20.000000</td>\n",
       "      <td>13563.500000</td>\n",
       "      <td>-23.425556</td>\n",
       "      <td>-46.744092</td>\n",
       "    </tr>\n",
       "    <tr>\n",
       "      <th>75%</th>\n",
       "      <td>58900.000000</td>\n",
       "      <td>-20.139828</td>\n",
       "      <td>-43.598897</td>\n",
       "      <td>5.000000</td>\n",
       "      <td>1.000000</td>\n",
       "      <td>4.000000</td>\n",
       "      <td>175.130000</td>\n",
       "      <td>1.000000</td>\n",
       "      <td>139.900000</td>\n",
       "      <td>21.220000</td>\n",
       "      <td>57.000000</td>\n",
       "      <td>996.000000</td>\n",
       "      <td>3.000000</td>\n",
       "      <td>1800.000000</td>\n",
       "      <td>38.000000</td>\n",
       "      <td>20.000000</td>\n",
       "      <td>30.000000</td>\n",
       "      <td>29156.000000</td>\n",
       "      <td>-21.757321</td>\n",
       "      <td>-46.518679</td>\n",
       "    </tr>\n",
       "    <tr>\n",
       "      <th>max</th>\n",
       "      <td>99990.000000</td>\n",
       "      <td>42.184003</td>\n",
       "      <td>-8.723762</td>\n",
       "      <td>5.000000</td>\n",
       "      <td>27.000000</td>\n",
       "      <td>24.000000</td>\n",
       "      <td>13664.080000</td>\n",
       "      <td>7.000000</td>\n",
       "      <td>6735.000000</td>\n",
       "      <td>409.680000</td>\n",
       "      <td>76.000000</td>\n",
       "      <td>3992.000000</td>\n",
       "      <td>20.000000</td>\n",
       "      <td>40425.000000</td>\n",
       "      <td>105.000000</td>\n",
       "      <td>105.000000</td>\n",
       "      <td>118.000000</td>\n",
       "      <td>99730.000000</td>\n",
       "      <td>-2.501242</td>\n",
       "      <td>-34.855616</td>\n",
       "    </tr>\n",
       "  </tbody>\n",
       "</table>\n",
       "</div>"
      ],
      "text/plain": [
       "       customer_zip_code_prefix  geolocation_lat_customer  \\\n",
       "count              99441.000000              99163.000000   \n",
       "mean               35137.474583                -21.191224   \n",
       "std                29797.938996                  5.608637   \n",
       "min                 1003.000000                -33.689948   \n",
       "25%                11347.000000                -23.589378   \n",
       "50%                24416.000000                -22.924970   \n",
       "75%                58900.000000                -20.139828   \n",
       "max                99990.000000                 42.184003   \n",
       "\n",
       "       geolocation_lng_customer  review_score  payment_sequential  \\\n",
       "count              99163.000000  98673.000000        99440.000000   \n",
       "mean                 -46.175442      4.086853            1.022878   \n",
       "std                    4.056067      1.347287            0.250282   \n",
       "min                  -72.668881      1.000000            1.000000   \n",
       "25%                  -48.097950      4.000000            1.000000   \n",
       "50%                  -46.630647      5.000000            1.000000   \n",
       "75%                  -43.598897      5.000000            1.000000   \n",
       "max                   -8.723762      5.000000           27.000000   \n",
       "\n",
       "       payment_installments  payment_value  order_item_id         price  \\\n",
       "count          99440.000000   99440.000000   98666.000000  98666.000000   \n",
       "mean               2.915617     158.334781       1.016449    125.945710   \n",
       "std                2.709861     219.518488       0.145693    191.337419   \n",
       "min                0.000000       0.000000       1.000000      0.850000   \n",
       "25%                1.000000      60.050000       1.000000     41.737500   \n",
       "50%                2.000000     103.350000       1.000000     79.000000   \n",
       "75%                4.000000     175.130000       1.000000    139.900000   \n",
       "max               24.000000   13664.080000       7.000000   6735.000000   \n",
       "\n",
       "       freight_value  product_name_lenght  product_description_lenght  \\\n",
       "count   98666.000000         97253.000000                97253.000000   \n",
       "mean       20.181896            48.855912                  794.048934   \n",
       "std        15.899848             9.993163                  654.677745   \n",
       "min         0.000000             5.000000                    4.000000   \n",
       "25%        13.270000            42.000000                  349.000000   \n",
       "50%        16.350000            52.000000                  607.000000   \n",
       "75%        21.220000            57.000000                  996.000000   \n",
       "max       409.680000            76.000000                 3992.000000   \n",
       "\n",
       "       product_photos_qty  product_weight_g  product_length_cm  \\\n",
       "count        97253.000000      98650.000000       98650.000000   \n",
       "mean             2.250316       2104.060274          30.107106   \n",
       "std              1.746295       3766.119528          16.137012   \n",
       "min              1.000000          0.000000           7.000000   \n",
       "25%              1.000000        300.000000          18.000000   \n",
       "50%              2.000000        700.000000          25.000000   \n",
       "75%              3.000000       1800.000000          38.000000   \n",
       "max             20.000000      40425.000000         105.000000   \n",
       "\n",
       "       product_height_cm  product_width_cm  seller_zip_code_prefix  \\\n",
       "count       98650.000000      98650.000000            98666.000000   \n",
       "mean           16.482433         23.023528            24607.951189   \n",
       "std            13.324701         11.740267            27688.089902   \n",
       "min             2.000000          6.000000             1001.000000   \n",
       "25%             8.000000         15.000000             6429.000000   \n",
       "50%            13.000000         20.000000            13563.500000   \n",
       "75%            20.000000         30.000000            29156.000000   \n",
       "max           105.000000        118.000000            99730.000000   \n",
       "\n",
       "       geolocation_lat_seller  geolocation_lng_seller  \n",
       "count            98450.000000            98450.000000  \n",
       "mean               -22.794132              -47.221691  \n",
       "std                  2.747566                2.346849  \n",
       "min                -32.079231              -67.813284  \n",
       "25%                -23.612734              -48.796518  \n",
       "50%                -23.425556              -46.744092  \n",
       "75%                -21.757321              -46.518679  \n",
       "max                 -2.501242              -34.855616  "
      ]
     },
     "execution_count": 33,
     "metadata": {},
     "output_type": "execute_result"
    }
   ],
   "source": [
    "df_orders.describe()"
   ]
  },
  {
   "cell_type": "markdown",
   "id": "84655781",
   "metadata": {},
   "source": [
    "### Traitement des valeurs manquantes"
   ]
  },
  {
   "cell_type": "markdown",
   "id": "e1e6d5eb",
   "metadata": {},
   "source": [
    "Affichons les valeurs manquantes:"
   ]
  },
  {
   "cell_type": "code",
   "execution_count": 34,
   "id": "c5178a21",
   "metadata": {},
   "outputs": [
    {
     "data": {
      "text/plain": [
       "review_comment_title             87890\n",
       "review_comment_message           58656\n",
       "order_delivered_customer_date     2965\n",
       "product_category_name_english     2210\n",
       "product_description_lenght        2188\n",
       "product_name_lenght               2188\n",
       "product_photos_qty                2188\n",
       "order_delivered_carrier_date      1783\n",
       "geolocation_lng_seller             991\n",
       "geolocation_lat_seller             991\n",
       "product_length_cm                  791\n",
       "product_width_cm                   791\n",
       "product_height_cm                  791\n",
       "product_weight_g                   791\n",
       "order_item_id                      775\n",
       "product_id                         775\n",
       "seller_id                          775\n",
       "shipping_limit_date                775\n",
       "price                              775\n",
       "freight_value                      775\n",
       "seller_zip_code_prefix             775\n",
       "seller_city                        775\n",
       "seller_state                       775\n",
       "review_answer_timestamp            768\n",
       "review_creation_date               768\n",
       "review_id                          768\n",
       "review_score                       768\n",
       "geolocation_lng_customer           278\n",
       "geolocation_lat_customer           278\n",
       "order_approved_at                  160\n",
       "payment_type                         1\n",
       "payment_value                        1\n",
       "payment_installments                 1\n",
       "payment_sequential                   1\n",
       "customer_id                          0\n",
       "customer_state                       0\n",
       "customer_city                        0\n",
       "customer_zip_code_prefix             0\n",
       "customer_unique_id                   0\n",
       "order_estimated_delivery_date        0\n",
       "order_purchase_timestamp             0\n",
       "order_status                         0\n",
       "order_id                             0\n",
       "dtype: int64"
      ]
     },
     "execution_count": 34,
     "metadata": {},
     "output_type": "execute_result"
    }
   ],
   "source": [
    "df_nan = df_orders.isna().sum().sort_values(ascending=False)\n",
    "df_nan"
   ]
  },
  {
   "cell_type": "markdown",
   "id": "f1e234eb",
   "metadata": {},
   "source": [
    "Il en découle le graphe suivant:"
   ]
  },
  {
   "cell_type": "code",
   "execution_count": 35,
   "id": "ee7fc97b",
   "metadata": {},
   "outputs": [
    {
     "data": {
      "image/png": "[encoded data removed]",
      "text/plain": [
       "<Figure size 720x720 with 1 Axes>"
      ]
     },
     "metadata": {
      "needs_background": "light"
     },
     "output_type": "display_data"
    }
   ],
   "source": [
    "plt.figure(figsize = (10,10))\n",
    "plt.title('Taux de valeurs manquantes du jeu de données (%)')\n",
    "fig = sns.barplot(x=df_nan.values/df_orders.shape[0]*100, y=df_nan.index)"
   ]
  },
  {
   "cell_type": "markdown",
   "id": "b188f79e",
   "metadata": {},
   "source": [
    "#### Imputation des NaN des features de reviews"
   ]
  },
  {
   "cell_type": "markdown",
   "id": "5ae3ab55",
   "metadata": {},
   "source": [
    "Définissons une fonction qui affiche les features ayant un taux de NaN supérieur à un seuil:"
   ]
  },
  {
   "cell_type": "code",
   "execution_count": 46,
   "id": "04a6ab8b",
   "metadata": {},
   "outputs": [],
   "source": [
    "def null_factor(df, tx):\n",
    "    \"\"\"Displays features with a percentage of missing values greater than a threshold.\n",
    "    Parameters\n",
    "    ----------\n",
    "    df : dataframe\n",
    "    tx:  integer\n",
    "         the threshold \n",
    "    Returns\n",
    "    -------\n",
    "    full_null_rate : list of features with a percentage of missing values greater than tx\n",
    "    \"\"\"\n",
    "    null_rate = ((df.isnull().sum() / df.shape[0])*100).sort_values(ascending=False).reset_index()\n",
    "    null_rate.columns = ['Variable','Taux_de_Null']\n",
    "    high_null_rate = null_rate[null_rate.Taux_de_Null >= tx]\n",
    "    return high_null_rate"
   ]
  },
  {
   "cell_type": "markdown",
   "id": "a8dbf16e",
   "metadata": {},
   "source": [
    "Affichons les features ayant les plus haut valeurs manquantes:"
   ]
  },
  {
   "cell_type": "code",
   "execution_count": 47,
   "id": "ac09858e",
   "metadata": {},
   "outputs": [
    {
     "data": {
      "text/html": [
       "<div>\n",
       "<style scoped>\n",
       "    .dataframe tbody tr th:only-of-type {\n",
       "        vertical-align: middle;\n",
       "    }\n",
       "\n",
       "    .dataframe tbody tr th {\n",
       "        vertical-align: top;\n",
       "    }\n",
       "\n",
       "    .dataframe thead th {\n",
       "        text-align: right;\n",
       "    }\n",
       "</style>\n",
       "<table border=\"1\" class=\"dataframe\">\n",
       "  <thead>\n",
       "    <tr style=\"text-align: right;\">\n",
       "      <th></th>\n",
       "      <th>Variable</th>\n",
       "      <th>Taux_de_Null</th>\n",
       "    </tr>\n",
       "  </thead>\n",
       "  <tbody>\n",
       "    <tr>\n",
       "      <th>0</th>\n",
       "      <td>review_comment_title</td>\n",
       "      <td>88.384067</td>\n",
       "    </tr>\n",
       "  </tbody>\n",
       "</table>\n",
       "</div>"
      ],
      "text/plain": [
       "               Variable  Taux_de_Null\n",
       "0  review_comment_title     88.384067"
      ]
     },
     "execution_count": 47,
     "metadata": {},
     "output_type": "execute_result"
    }
   ],
   "source": [
    "full_null_rate = null_factor(df_orders, 60)\n",
    "full_null_rate"
   ]
  },
  {
   "cell_type": "markdown",
   "id": "e1bf1891",
   "metadata": {},
   "source": [
    "Nous décidons d'éliminer la feature ayant un taux de valeurs nulles supérieur à 80%:"
   ]
  },
  {
   "cell_type": "code",
   "execution_count": 48,
   "id": "28bb0fcb",
   "metadata": {},
   "outputs": [],
   "source": [
    "df_orders.drop(['review_comment_title'], axis=1, inplace=True)"
   ]
  },
  {
   "cell_type": "markdown",
   "id": "1e13498e",
   "metadata": {},
   "source": [
    "#### Imputation des NaN des dates"
   ]
  },
  {
   "cell_type": "markdown",
   "id": "7ed98ce6",
   "metadata": {},
   "source": [
    "Nous décidons d'imputer des valeurs manquantes des dates par des valeurs de date connues:"
   ]
  },
  {
   "cell_type": "code",
   "execution_count": 49,
   "id": "1517c525",
   "metadata": {},
   "outputs": [],
   "source": [
    "df_orders[\"order_approved_at\"] = df_orders[\"order_approved_at\"].fillna(df_orders[\"order_purchase_timestamp\"])\n",
    "df_orders[\"order_delivered_carrier_date\"] = df_orders[\"order_delivered_carrier_date\"].\\\n",
    "                                            fillna(df_orders[\"order_approved_at\"])\n",
    "df_orders[\"order_delivered_customer_date\"] = df_orders[\"order_delivered_customer_date\"].\\\n",
    "                                             fillna(df_orders[\"order_estimated_delivery_date\"])\n",
    "df_orders[\"review_creation_date\"] = df_orders[\"review_creation_date\"].fillna(df_orders[\"order_delivered_customer_date\"])\n",
    "df_orders[\"review_answer_timestamp\"] = df_orders[\"review_answer_timestamp\"].fillna(df_orders[\"review_creation_date\"])\n",
    "df_orders[\"shipping_limit_date\"] = df_orders[\"shipping_limit_date\"].fillna(df_orders[\"order_approved_at\"])"
   ]
  },
  {
   "cell_type": "markdown",
   "id": "3471affc",
   "metadata": {},
   "source": [
    "#### imputation par unknown "
   ]
  },
  {
   "cell_type": "markdown",
   "id": "ae674ff9",
   "metadata": {},
   "source": [
    "Nous décidons d'imputer les valeurs manquantes des features par 'unknown':"
   ]
  },
  {
   "cell_type": "markdown",
   "id": "17f387d3",
   "metadata": {},
   "source": [
    "Listons ces features:"
   ]
  },
  {
   "cell_type": "code",
   "execution_count": 52,
   "id": "2e5bbdaf",
   "metadata": {},
   "outputs": [
    {
     "data": {
      "text/plain": [
       "['product_category_name_english',\n",
       " 'review_id',\n",
       " 'product_id',\n",
       " 'seller_id',\n",
       " 'review_comment_message']"
      ]
     },
     "execution_count": 52,
     "metadata": {},
     "output_type": "execute_result"
    }
   ],
   "source": [
    "liste_nan_unknown = [\n",
    "    'product_category_name_english',\n",
    "    'review_id','product_id','seller_id',\n",
    "    'review_comment_message',\n",
    "]\n",
    "liste_nan_unknown"
   ]
  },
  {
   "cell_type": "markdown",
   "id": "e335d269",
   "metadata": {},
   "source": [
    "Imputons les valeurs manquantes de ces features:"
   ]
  },
  {
   "cell_type": "code",
   "execution_count": 55,
   "id": "db0f92ea",
   "metadata": {},
   "outputs": [],
   "source": [
    "df_orders[liste_nan_unknown] = df_orders[liste_nan_unknown].fillna('unknown')"
   ]
  },
  {
   "cell_type": "markdown",
   "id": "fda4fb64",
   "metadata": {},
   "source": [
    "#### Imputations par la valeur la plus fréquente"
   ]
  },
  {
   "cell_type": "markdown",
   "id": "940aeaf1",
   "metadata": {},
   "source": [
    "Nous décidons d'imputer les valeurs manquantes des features par la valeur la plus fréquente:"
   ]
  },
  {
   "cell_type": "markdown",
   "id": "64687172",
   "metadata": {},
   "source": [
    "Listons ces features:"
   ]
  },
  {
   "cell_type": "code",
   "execution_count": 56,
   "id": "79b80cce",
   "metadata": {},
   "outputs": [
    {
     "data": {
      "text/plain": [
       "['payment_type',\n",
       " 'order_item_id',\n",
       " 'seller_zip_code_prefix',\n",
       " 'seller_city',\n",
       " 'seller_state']"
      ]
     },
     "execution_count": 56,
     "metadata": {},
     "output_type": "execute_result"
    }
   ],
   "source": [
    "liste_nan_mode = [\n",
    "    'payment_type','order_item_id',\n",
    "    'seller_zip_code_prefix',\n",
    "    'seller_city','seller_state',\n",
    "]\n",
    "liste_nan_mode"
   ]
  },
  {
   "cell_type": "markdown",
   "id": "705a4b0a",
   "metadata": {},
   "source": [
    "Définissons une fonction pour imputer les nan par la mode:"
   ]
  },
  {
   "cell_type": "code",
   "execution_count": 58,
   "id": "32e88704",
   "metadata": {},
   "outputs": [],
   "source": [
    "def nan_to_mode(df, liste):\n",
    "    \"\"\"Fill the NaN values with the mode.\n",
    "    Parameters\n",
    "    ----------\n",
    "    df : dataframe\n",
    "    liste:  list\n",
    "            list of the features\n",
    "    Returns\n",
    "    -------\n",
    "    df : dataframe\n",
    "    \"\"\"\n",
    "    for col in liste:\n",
    "        df[col] = df[col].fillna(df[col].mode()[0])\n",
    "    return df"
   ]
  },
  {
   "cell_type": "markdown",
   "id": "8a846b84",
   "metadata": {},
   "source": [
    "Imputons les valeurs manquantes:"
   ]
  },
  {
   "cell_type": "code",
   "execution_count": 59,
   "id": "0b45c333",
   "metadata": {},
   "outputs": [],
   "source": [
    "df_orders = nan_to_mode(df_orders, liste_nan_mode)"
   ]
  },
  {
   "cell_type": "markdown",
   "id": "e07659df",
   "metadata": {},
   "source": [
    "#### Imputation par ma médiane"
   ]
  },
  {
   "cell_type": "markdown",
   "id": "28ef84eb",
   "metadata": {},
   "source": [
    "Nous décidons d'imputer les valeurs manquantes des feaures par leur médiane:"
   ]
  },
  {
   "cell_type": "markdown",
   "id": "70956bf3",
   "metadata": {},
   "source": [
    "Definissons une fonction qui impute les NaN en ma mediane:"
   ]
  },
  {
   "cell_type": "code",
   "execution_count": 62,
   "id": "fdf109ae",
   "metadata": {},
   "outputs": [],
   "source": [
    "def nan_to_median(df, liste):\n",
    "    \"\"\"Fill the NaN values with the median.\n",
    "    Parameters\n",
    "    ----------\n",
    "    df : dataframe\n",
    "    liste:  list\n",
    "            list of the features\n",
    "    Returns\n",
    "    -------\n",
    "    df : dataframe\n",
    "    \"\"\"\n",
    "    for col in liste:\n",
    "        df[col] = df[col].fillna(df[col].median())\n",
    "    return df"
   ]
  },
  {
   "cell_type": "markdown",
   "id": "a7e22a55",
   "metadata": {},
   "source": [
    "Listons ces features:"
   ]
  },
  {
   "cell_type": "code",
   "execution_count": 63,
   "id": "d336d866",
   "metadata": {},
   "outputs": [
    {
     "data": {
      "text/plain": [
       "['product_name_lenght',\n",
       " 'product_description_lenght',\n",
       " 'product_photos_qty',\n",
       " 'product_length_cm',\n",
       " 'product_height_cm',\n",
       " 'product_width_cm',\n",
       " 'product_weight_g',\n",
       " 'payment_value',\n",
       " 'payment_installments',\n",
       " 'payment_sequential',\n",
       " 'review_score',\n",
       " 'price',\n",
       " 'freight_value']"
      ]
     },
     "execution_count": 63,
     "metadata": {},
     "output_type": "execute_result"
    }
   ],
   "source": [
    "liste_nan_to_median = [\n",
    "    'product_name_lenght','product_description_lenght','product_photos_qty',\n",
    "    'product_length_cm','product_height_cm','product_width_cm','product_weight_g',\n",
    "    'payment_value','payment_installments','payment_sequential','review_score','price',\n",
    "    'freight_value',\n",
    "]\n",
    "liste_nan_to_median"
   ]
  },
  {
   "cell_type": "markdown",
   "id": "96e8424e",
   "metadata": {},
   "source": [
    "Imputons les NaN:"
   ]
  },
  {
   "cell_type": "code",
   "execution_count": 64,
   "id": "e9d8e5cc",
   "metadata": {},
   "outputs": [],
   "source": [
    "df_orders = nan_to_median(df_orders, liste_nan_to_median)"
   ]
  },
  {
   "cell_type": "markdown",
   "id": "130e5664",
   "metadata": {},
   "source": [
    "#### Imputation par IterativeImputer"
   ]
  },
  {
   "cell_type": "markdown",
   "id": "8aeda546",
   "metadata": {},
   "source": [
    "Nous décidons d'imputer les valeurs manquantes des features par iterative imputer:"
   ]
  },
  {
   "cell_type": "markdown",
   "id": "67e7f499",
   "metadata": {},
   "source": [
    "Définissons la fonction pour ce mode d'imputation:"
   ]
  },
  {
   "cell_type": "code",
   "execution_count": 65,
   "id": "9a63a17a",
   "metadata": {},
   "outputs": [],
   "source": [
    "def iterative_imputer(df,liste):\n",
    "    \"\"\"Fill the NaN values using the iterative imputer.\n",
    "    Parameters\n",
    "    ----------\n",
    "    df : dataframe\n",
    "    liste:  list\n",
    "            list of the features\n",
    "    Returns\n",
    "    -------\n",
    "    df : dataframe\n",
    "    \"\"\"\n",
    "    for i in liste:\n",
    "        X = df[[i]].values\n",
    "        imputer = IterativeImputer()\n",
    "        imputer.fit(X)\n",
    "        X = imputer.transform(X)\n",
    "        df[i] = X"
   ]
  },
  {
   "cell_type": "markdown",
   "id": "920ac21e",
   "metadata": {},
   "source": [
    "Listons cles features:"
   ]
  },
  {
   "cell_type": "code",
   "execution_count": 66,
   "id": "19c3c272",
   "metadata": {},
   "outputs": [
    {
     "data": {
      "text/plain": [
       "['geolocation_lng_customer',\n",
       " 'geolocation_lat_customer',\n",
       " 'geolocation_lng_seller',\n",
       " 'geolocation_lat_seller']"
      ]
     },
     "execution_count": 66,
     "metadata": {},
     "output_type": "execute_result"
    }
   ],
   "source": [
    "liste_nan=[\n",
    "    'geolocation_lng_customer','geolocation_lat_customer',\n",
    "    'geolocation_lng_seller','geolocation_lat_seller',\n",
    "]\n",
    "liste_nan"
   ]
  },
  {
   "cell_type": "markdown",
   "id": "e849c69b",
   "metadata": {},
   "source": [
    "Imputons les NaN:"
   ]
  },
  {
   "cell_type": "code",
   "execution_count": 67,
   "id": "055302eb",
   "metadata": {},
   "outputs": [],
   "source": [
    "iterative_imputer(df_orders,liste_nan)"
   ]
  },
  {
   "cell_type": "markdown",
   "id": "ff4d63d2",
   "metadata": {},
   "source": [
    "Recontrollons les valeurs manquantes:"
   ]
  },
  {
   "cell_type": "code",
   "execution_count": 68,
   "id": "f6bd172a",
   "metadata": {},
   "outputs": [
    {
     "data": {
      "text/plain": [
       "order_id                         0\n",
       "customer_id                      0\n",
       "order_status                     0\n",
       "order_purchase_timestamp         0\n",
       "order_approved_at                0\n",
       "order_delivered_carrier_date     0\n",
       "order_delivered_customer_date    0\n",
       "order_estimated_delivery_date    0\n",
       "customer_unique_id               0\n",
       "customer_zip_code_prefix         0\n",
       "customer_city                    0\n",
       "customer_state                   0\n",
       "geolocation_lat_customer         0\n",
       "geolocation_lng_customer         0\n",
       "review_id                        0\n",
       "review_score                     0\n",
       "review_comment_message           0\n",
       "review_creation_date             0\n",
       "review_answer_timestamp          0\n",
       "payment_sequential               0\n",
       "payment_type                     0\n",
       "payment_installments             0\n",
       "payment_value                    0\n",
       "order_item_id                    0\n",
       "product_id                       0\n",
       "seller_id                        0\n",
       "shipping_limit_date              0\n",
       "price                            0\n",
       "freight_value                    0\n",
       "product_name_lenght              0\n",
       "product_description_lenght       0\n",
       "product_photos_qty               0\n",
       "product_weight_g                 0\n",
       "product_length_cm                0\n",
       "product_height_cm                0\n",
       "product_width_cm                 0\n",
       "product_category_name_english    0\n",
       "seller_zip_code_prefix           0\n",
       "seller_city                      0\n",
       "seller_state                     0\n",
       "geolocation_lat_seller           0\n",
       "geolocation_lng_seller           0\n",
       "dtype: int64"
      ]
     },
     "execution_count": 68,
     "metadata": {},
     "output_type": "execute_result"
    }
   ],
   "source": [
    "df_orders.isna().sum()"
   ]
  },
  {
   "cell_type": "markdown",
   "id": "3b42fcb0",
   "metadata": {},
   "source": [
    "Sa taille:"
   ]
  },
  {
   "cell_type": "code",
   "execution_count": 69,
   "id": "39ad6622",
   "metadata": {},
   "outputs": [
    {
     "name": "stdout",
     "output_type": "stream",
     "text": [
      "Le jeu de données des commandes compte 99441 lignes et 42 colonnes\n"
     ]
    }
   ],
   "source": [
    "print((\"Le jeu de données des commandes compte {} lignes et {} colonnes\").format(df_orders.shape[0],df_orders.shape[1]))"
   ]
  },
  {
   "cell_type": "markdown",
   "id": "6b997b18",
   "metadata": {},
   "source": [
    "### Exploration du jeu de données"
   ]
  },
  {
   "cell_type": "markdown",
   "id": "d4124bf4",
   "metadata": {},
   "source": [
    "Affichons la distribution du nombre de commandes par client"
   ]
  },
  {
   "cell_type": "markdown",
   "id": "90138e7c",
   "metadata": {},
   "source": [
    "Il en découle le diagramme camembert suivant:"
   ]
  },
  {
   "cell_type": "code",
   "execution_count": 70,
   "id": "4b8c161b",
   "metadata": {},
   "outputs": [
    {
     "data": {
      "image/png": "[encoded data removed]",
      "text/plain": [
       "<Figure size 864x576 with 1 Axes>"
      ]
     },
     "metadata": {
      "needs_background": "light"
     },
     "output_type": "display_data"
    }
   ],
   "source": [
    "fig = plt.figure(figsize=(12,8))\n",
    "ax = sns.histplot(data=df_orders.groupby(\"customer_unique_id\").agg({\"customer_id\": \"count\"}), x='customer_id' )\n",
    "ax.set_xlabel(\"commandes \")\n",
    "ax.set_ylabel(\"nombres\")\n",
    "title = plt.title(f\"Nombres de commandes effectuées par client\\n\", fontsize=18)"
   ]
  },
  {
   "cell_type": "code",
   "execution_count": 71,
   "id": "b3dea1c8",
   "metadata": {},
   "outputs": [
    {
     "data": {
      "image/png": "[encoded data removed]",
      "text/plain": [
       "<Figure size 576x576 with 1 Axes>"
      ]
     },
     "metadata": {},
     "output_type": "display_data"
    }
   ],
   "source": [
    "comptage_orders = df_orders.groupby(\"customer_unique_id\").agg({\"customer_id\": \"count\"}).value_counts()\n",
    "colors = sns.color_palette('bright')\n",
    "plt.figure(figsize=(8, 8))\n",
    "plt.pie(comptage_orders.values, labels = ['1','2','3','','.','.','.','.','.'],\n",
    "        colors = colors, autopct = '%0.0f%%')\n",
    "title = plt.title(\"Pourcentage du nombre de commandes effectuées par client\" , fontsize=18)"
   ]
  },
  {
   "cell_type": "markdown",
   "id": "743cbb72",
   "metadata": {},
   "source": [
    "Nous constatons que seuls 3 % des clients ont réalisé plus d’une commande."
   ]
  },
  {
   "cell_type": "code",
   "execution_count": 72,
   "id": "a02616e7",
   "metadata": {},
   "outputs": [
    {
     "data": {
      "image/png": "[encoded data removed]",
      "text/plain": [
       "<Figure size 864x576 with 1 Axes>"
      ]
     },
     "metadata": {
      "needs_background": "light"
     },
     "output_type": "display_data"
    }
   ],
   "source": [
    "fig = plt.figure(figsize=(12,8))\n",
    "ax = sns.histplot(data=df_orders, x='price', log_scale=True, bins=30 )\n",
    "ax.set_xlabel(\"Prix\")\n",
    "title = plt.title(f\"Distribution logarithmique des prix\\n\", fontsize=18)"
   ]
  },
  {
   "cell_type": "markdown",
   "id": "ca09ecd7",
   "metadata": {},
   "source": [
    "Les prix sont plus ou moins uniforment distribués avec une prédominance des produits à bas prix autour de 60 à 100."
   ]
  },
  {
   "cell_type": "code",
   "execution_count": 73,
   "id": "9c14db26",
   "metadata": {},
   "outputs": [
    {
     "data": {
      "image/png": "[encoded data removed]",
      "text/plain": [
       "<Figure size 864x576 with 1 Axes>"
      ]
     },
     "metadata": {
      "needs_background": "light"
     },
     "output_type": "display_data"
    }
   ],
   "source": [
    "comptage_type_payement = df_orders['payment_type'].value_counts()\n",
    "plt.figure(figsize=(12,8))\n",
    "ax = sns.barplot(y=comptage_type_payement.values,x=comptage_type_payement .index)\n",
    "ax.set_xlabel(\"Types de payements\")\n",
    "title = plt.title(\"Répartition des types de payements\" \"\\n\", fontsize=18)"
   ]
  },
  {
   "cell_type": "markdown",
   "id": "837b8e60",
   "metadata": {},
   "source": [
    "La plus part de payements sont effectués par carte de credit."
   ]
  },
  {
   "cell_type": "code",
   "execution_count": 74,
   "id": "33e1390f",
   "metadata": {},
   "outputs": [
    {
     "data": {
      "image/png": "[encoded data removed]",
      "text/plain": [
       "<Figure size 1440x576 with 2 Axes>"
      ]
     },
     "metadata": {
      "needs_background": "light"
     },
     "output_type": "display_data"
    }
   ],
   "source": [
    "fig, axes = plt.subplots(nrows=1, ncols=2, sharex=False, sharey=False, figsize=(20,8))\n",
    "comptage_residence_customer = df_orders['customer_state'].value_counts()\n",
    "ax = sns.barplot(x=comptage_residence_customer.values, y=comptage_residence_customer.index, ax=axes[0])\n",
    "axes[0].set_title(\"Clients par etats\", color='#2cb7b0' )\n",
    "comptage_residence_seller = df_orders['seller_state'].value_counts()\n",
    "ax = sns.barplot(x=comptage_residence_seller.values, y=comptage_residence_seller.index, ax=axes[1])\n",
    "axes[1].set_title(\"Vendeurs par etats\", color='#2cb7b0' )\n",
    "title = plt.suptitle(\"Répartition des clients et vendeurs par etats\", fontsize=18)"
   ]
  },
  {
   "cell_type": "markdown",
   "id": "5423f6f9",
   "metadata": {},
   "source": [
    "La majorité des clients comme des vendeurs sont résidents à Sao Paolo."
   ]
  },
  {
   "cell_type": "code",
   "execution_count": 75,
   "id": "cafba06e",
   "metadata": {},
   "outputs": [
    {
     "data": {
      "image/png": "[encoded data removed]",
      "text/plain": [
       "<Figure size 864x576 with 1 Axes>"
      ]
     },
     "metadata": {
      "needs_background": "light"
     },
     "output_type": "display_data"
    }
   ],
   "source": [
    "comptage_type_produits = df_orders['product_category_name_english'].value_counts().iloc[:20]\n",
    "plt.figure(figsize=(12,8))\n",
    "ax = sns.barplot(x=comptage_type_produits .values, y=comptage_type_produits .index)\n",
    "ax.set_ylabel(\"Produits\")\n",
    "title = plt.title(\"Classement des 20 catégories de produits les plus vendus\" \"\\n\", fontsize=18)"
   ]
  },
  {
   "cell_type": "markdown",
   "id": "486b019c",
   "metadata": {},
   "source": [
    "Les tables de bain lit, les produits de beauté,de décoration et les accessoires des ordinateurs sont les catégories de produits plus vendus."
   ]
  },
  {
   "cell_type": "code",
   "execution_count": 76,
   "id": "e67157ab",
   "metadata": {},
   "outputs": [
    {
     "data": {
      "image/png": "[encoded data removed]",
      "text/plain": [
       "<Figure size 648x648 with 1 Axes>"
      ]
     },
     "metadata": {},
     "output_type": "display_data"
    }
   ],
   "source": [
    "comptage_notes = df_orders['review_score'].value_counts()\n",
    "colors = sns.color_palette('bright')\n",
    "plt.figure(figsize=(9, 9))\n",
    "plt.pie(comptage_notes.values, labels = comptage_notes.index, colors = colors, autopct = '%0.0f%%')\n",
    "title = plt.title(\"Répartition des notes de satisfaction des clients\" , fontsize=18)"
   ]
  },
  {
   "cell_type": "markdown",
   "id": "c3bd131a",
   "metadata": {},
   "source": [
    "La majorité des clients sont satisfait de leurs produits, avec des proportions de 58% ayant attribués la meilleur note et 11% la pire note de satisfaction."
   ]
  },
  {
   "cell_type": "markdown",
   "id": "970c2c77",
   "metadata": {},
   "source": [
    "Nous voulons classer les catégories de produits ayant les meilleurs score de statisfaction de part des client.\n",
    "Pour cela nous allons calculer un score qui tient compte du nombre de commandes:"
   ]
  },
  {
   "cell_type": "code",
   "execution_count": 77,
   "id": "dea2a5a2",
   "metadata": {},
   "outputs": [
    {
     "data": {
      "text/html": [
       "<div>\n",
       "<style scoped>\n",
       "    .dataframe tbody tr th:only-of-type {\n",
       "        vertical-align: middle;\n",
       "    }\n",
       "\n",
       "    .dataframe tbody tr th {\n",
       "        vertical-align: top;\n",
       "    }\n",
       "\n",
       "    .dataframe thead th {\n",
       "        text-align: right;\n",
       "    }\n",
       "</style>\n",
       "<table border=\"1\" class=\"dataframe\">\n",
       "  <thead>\n",
       "    <tr style=\"text-align: right;\">\n",
       "      <th></th>\n",
       "      <th>review_score</th>\n",
       "      <th>customer_id</th>\n",
       "      <th>score</th>\n",
       "    </tr>\n",
       "    <tr>\n",
       "      <th>product_category_name_english</th>\n",
       "      <th></th>\n",
       "      <th></th>\n",
       "      <th></th>\n",
       "    </tr>\n",
       "  </thead>\n",
       "  <tbody>\n",
       "    <tr>\n",
       "      <th>security_and_services</th>\n",
       "      <td>2.500000</td>\n",
       "      <td>2</td>\n",
       "      <td>0.900000</td>\n",
       "    </tr>\n",
       "    <tr>\n",
       "      <th>fashion_childrens_clothes</th>\n",
       "      <td>4.428571</td>\n",
       "      <td>7</td>\n",
       "      <td>0.368664</td>\n",
       "    </tr>\n",
       "    <tr>\n",
       "      <th>unknown</th>\n",
       "      <td>3.184615</td>\n",
       "      <td>2210</td>\n",
       "      <td>0.314462</td>\n",
       "    </tr>\n",
       "    <tr>\n",
       "      <th>diapers_and_hygiene</th>\n",
       "      <td>3.740741</td>\n",
       "      <td>27</td>\n",
       "      <td>0.304364</td>\n",
       "    </tr>\n",
       "    <tr>\n",
       "      <th>la_cuisine</th>\n",
       "      <td>4.583333</td>\n",
       "      <td>12</td>\n",
       "      <td>0.301515</td>\n",
       "    </tr>\n",
       "  </tbody>\n",
       "</table>\n",
       "</div>"
      ],
      "text/plain": [
       "                               review_score  customer_id     score\n",
       "product_category_name_english                                     \n",
       "security_and_services              2.500000            2  0.900000\n",
       "fashion_childrens_clothes          4.428571            7  0.368664\n",
       "unknown                            3.184615         2210  0.314462\n",
       "diapers_and_hygiene                3.740741           27  0.304364\n",
       "la_cuisine                         4.583333           12  0.301515"
      ]
     },
     "execution_count": 77,
     "metadata": {},
     "output_type": "execute_result"
    }
   ],
   "source": [
    "data = df_orders.groupby(\"product_category_name_english\").agg({\"review_score\": \"mean\",\n",
    "                                                             \"customer_id\": \"count\"})\n",
    "data['score'] = (data['review_score']+data[\"customer_id\"]) / (data['review_score']*data[\"customer_id\"])\n",
    "data.sort_values('score', ascending=False).head()"
   ]
  },
  {
   "cell_type": "markdown",
   "id": "3a4872c6",
   "metadata": {},
   "source": [
    "Affichons le classement des catégories produits ayant les meilleurs scores:"
   ]
  },
  {
   "cell_type": "code",
   "execution_count": 78,
   "id": "7182dec3",
   "metadata": {},
   "outputs": [
    {
     "data": {
      "image/png": "[encoded data removed]",
      "text/plain": [
       "<Figure size 864x576 with 1 Axes>"
      ]
     },
     "metadata": {
      "needs_background": "light"
     },
     "output_type": "display_data"
    }
   ],
   "source": [
    "data = data.sort_values('score', ascending=False).iloc[:30]\n",
    "plt.figure(figsize=(12,8))\n",
    "ax = sns.barplot(x=data['score'].values, y=data['score'].index)\n",
    "ax.set_xlabel(\"Score\")\n",
    "ax.set_ylabel(\"Produits\")\n",
    "title = plt.title(\"Classement des catégories produits ayant les meilleurs scores de statisfaction\" \"\\n\", fontsize=18)"
   ]
  },
  {
   "cell_type": "markdown",
   "id": "da07454e",
   "metadata": {},
   "source": [
    "Les produits des categories security and services sont ceux ayant les meilleurs score pour le dégre de satisfaction des clients, le reste des catégories de produits ont des degrés de satisfaction plus ou moins homogéne."
   ]
  },
  {
   "cell_type": "code",
   "execution_count": 79,
   "id": "190c7202",
   "metadata": {},
   "outputs": [
    {
     "data": {
      "image/png": "[encoded data removed]",
      "text/plain": [
       "<Figure size 720x720 with 2 Axes>"
      ]
     },
     "metadata": {
      "needs_background": "light"
     },
     "output_type": "display_data"
    }
   ],
   "source": [
    "corr = df_orders.select_dtypes(include = ['float64', 'int64']).corr() \n",
    "plt.figure(figsize=(10, 10))\n",
    "\n",
    "sns.heatmap(corr[(corr >= 0.5) | (corr <= -0.5)], \n",
    "            cmap='viridis', vmax=1.0, vmin=-1.0, linewidths=0.1,\n",
    "            annot=True, annot_kws={\"size\": 8}, square=True);"
   ]
  },
  {
   "cell_type": "code",
   "execution_count": 80,
   "id": "f956d520",
   "metadata": {},
   "outputs": [
    {
     "data": {
      "text/html": [
       "<div>\n",
       "<style scoped>\n",
       "    .dataframe tbody tr th:only-of-type {\n",
       "        vertical-align: middle;\n",
       "    }\n",
       "\n",
       "    .dataframe tbody tr th {\n",
       "        vertical-align: top;\n",
       "    }\n",
       "\n",
       "    .dataframe thead th {\n",
       "        text-align: right;\n",
       "    }\n",
       "</style>\n",
       "<table border=\"1\" class=\"dataframe\">\n",
       "  <thead>\n",
       "    <tr style=\"text-align: right;\">\n",
       "      <th></th>\n",
       "      <th>level_0</th>\n",
       "      <th>level_1</th>\n",
       "      <th>corr_coeff</th>\n",
       "    </tr>\n",
       "  </thead>\n",
       "  <tbody>\n",
       "    <tr>\n",
       "      <th>0</th>\n",
       "      <td>price</td>\n",
       "      <td>payment_value</td>\n",
       "      <td>0.897651</td>\n",
       "    </tr>\n",
       "  </tbody>\n",
       "</table>\n",
       "</div>"
      ],
      "text/plain": [
       "  level_0        level_1  corr_coeff\n",
       "0   price  payment_value    0.897651"
      ]
     },
     "execution_count": 80,
     "metadata": {},
     "output_type": "execute_result"
    }
   ],
   "source": [
    "threshold = 0.7\n",
    "corr_pairs = corr.unstack().sort_values(kind=\"quicksort\")\n",
    "strong_corr = (pd.DataFrame(corr_pairs[(abs(corr_pairs) > threshold)])\n",
    "               .reset_index().rename(columns={0:'corr_coeff'}))\n",
    "strong_corr = strong_corr[(strong_corr.index%2 == 0) & (strong_corr['level_0'] != strong_corr['level_1'])]\n",
    "strong_corr.sort_values('corr_coeff', ascending=False)"
   ]
  },
  {
   "cell_type": "markdown",
   "id": "1be402c7",
   "metadata": {},
   "source": [
    "Nous ne rélevons pas de forte correlations entre les variables, à noter tout de même une  correlation entre payment_value et price."
   ]
  },
  {
   "cell_type": "markdown",
   "id": "eb2425b4",
   "metadata": {},
   "source": [
    "Créons un file csv pour la partie modélisation:"
   ]
  },
  {
   "cell_type": "code",
   "execution_count": 81,
   "id": "e41299ed",
   "metadata": {},
   "outputs": [],
   "source": [
    "df_orders.to_csv('df_orders.csv', index = False)"
   ]
  },
  {
   "cell_type": "code",
   "execution_count": null,
   "id": "769f173c",
   "metadata": {},
   "outputs": [],
   "source": []
  }
 ],
 "metadata": {
  "kernelspec": {
   "display_name": "Python 3 (ipykernel)",
   "language": "python",
   "name": "python3"
  },
  "language_info": {
   "codemirror_mode": {
    "name": "ipython",
    "version": 3
   },
   "file_extension": ".py",
   "mimetype": "text/x-python",
   "name": "python",
   "nbconvert_exporter": "python",
   "pygments_lexer": "ipython3",
   "version": "3.9.7"
  }
 },
 "nbformat": 4,
 "nbformat_minor": 5
}
