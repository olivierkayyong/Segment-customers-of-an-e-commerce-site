{
 "cells": [
  {
   "cell_type": "code",
   "execution_count": 1,
   "id": "2f51e0eb",
   "metadata": {},
   "outputs": [],
   "source": [
    "import pandas as pd\n",
    "import seaborn as sns\n",
    "import matplotlib.pyplot as plt\n",
    "import numpy as np\n",
    "from sklearn.compose import ColumnTransformer, make_column_transformer\n",
    "from sklearn.pipeline import Pipeline, make_pipeline\n",
    "from sklearn.preprocessing import StandardScaler\n",
    "from sklearn.cluster import KMeans\n",
    "import datetime\n",
    "from sklearn.metrics import homogeneity_score, adjusted_rand_score, adjusted_mutual_info_score\n",
    "import linear as ln\n",
    "from sklearn.metrics import confusion_matrix"
   ]
  },
  {
   "cell_type": "markdown",
   "id": "da8a69ce",
   "metadata": {},
   "source": [
    "## Énoncé\n",
    "Consultant pour Olist, nous devons fournir aux équipes d'e-commerce une segmentation des clients utilisable au quotidien pour leurs campagnes de communication.\n",
    "## Mission\n",
    "Nous allons réaliser  des simulation afin de déterminer la fréquence nécessaire de mise à jour du modèle de segmentation."
   ]
  },
  {
   "cell_type": "markdown",
   "id": "90714ed6",
   "metadata": {},
   "source": [
    "Lecture du jeu de données:"
   ]
  },
  {
   "cell_type": "code",
   "execution_count": 2,
   "id": "f51ea9c2",
   "metadata": {},
   "outputs": [],
   "source": [
    "df_orders = pd.read_csv('df_orders_.csv')"
   ]
  },
  {
   "cell_type": "markdown",
   "id": "7a496201",
   "metadata": {},
   "source": [
    "### Filtrage des commandes "
   ]
  },
  {
   "cell_type": "markdown",
   "id": "a8493e86",
   "metadata": {},
   "source": [
    "Définissons la derniére date de commandes:"
   ]
  },
  {
   "cell_type": "code",
   "execution_count": 4,
   "id": "31b1006c",
   "metadata": {},
   "outputs": [
    {
     "data": {
      "text/plain": [
       "Timestamp('2018-10-17 17:30:18')"
      ]
     },
     "execution_count": 4,
     "metadata": {},
     "output_type": "execute_result"
    }
   ],
   "source": [
    "df_orders['order_purchase_timestamp'] = pd.to_datetime(df_orders['order_purchase_timestamp'])\n",
    "max_date = max(df_orders['order_purchase_timestamp'])\n",
    "max_date"
   ]
  },
  {
   "cell_type": "markdown",
   "id": "280e7397",
   "metadata": {},
   "source": [
    "Pour une date Ti donnée, définissons une fonction  qui permette de génerer le dataframe RFM des clients ayant effectués les commandes jusqu’à la date Ti. "
   ]
  },
  {
   "cell_type": "code",
   "execution_count": 5,
   "id": "132fa804",
   "metadata": {},
   "outputs": [],
   "source": [
    "def df_period(df, date):\n",
    "    \"\"\"Generate the RFM dataframe of customers who have placed orders up to a date.\n",
    "    Parameters\n",
    "    ----------\n",
    "    df : dataframe\n",
    "    date:  object\n",
    "           date of order\n",
    "    Returns\n",
    "    -------\n",
    "    df : dataframe\n",
    "    \"\"\"\n",
    "    df_date = pd.DataFrame({'date':pd.date_range(start=date, periods=1)})\n",
    "    days = (max_date-df_date['date']).dt.days.loc[0]\n",
    "    mask = (df['nb_days'] >= days)\n",
    "    df = df[mask]\n",
    "    df= df.groupby('customer_unique_id').agg({'nb_days': 'min',\n",
    "                                              'customer_id':'count',\n",
    "                                              'total_payment':'sum',\n",
    "                                              'review_score': 'mean',\n",
    "                                              }).reset_index()\n",
    "    df.columns = ['customer_id', 'recency', 'frequency', 'monetary',' note']\n",
    "    return df   "
   ]
  },
  {
   "cell_type": "markdown",
   "id": "72c4295a",
   "metadata": {},
   "source": [
    "### Simulation d’évolution des clusters"
   ]
  },
  {
   "cell_type": "markdown",
   "id": "14ede282",
   "metadata": {},
   "source": [
    "L’objectif est de déterminer au bout de combien de temps le modèle de clustering entraîné initialement proposé devient obsolète nécessitant d’entraîner un nouveau modèle de clustering."
   ]
  },
  {
   "cell_type": "markdown",
   "id": "68362038",
   "metadata": {},
   "source": [
    "#### Periode initiale"
   ]
  },
  {
   "cell_type": "markdown",
   "id": "445ec848",
   "metadata": {},
   "source": [
    " Fixons notre date initiale en intégrant un délai de simulation de maintenance:"
   ]
  },
  {
   "cell_type": "code",
   "execution_count": 6,
   "id": "22fb6998",
   "metadata": {},
   "outputs": [
    {
     "data": {
      "text/plain": [
       "'2018-09-05'"
      ]
     },
     "execution_count": 6,
     "metadata": {},
     "output_type": "execute_result"
    }
   ],
   "source": [
    "initial_date = '2018-09-05'\n",
    "initial_date"
   ]
  },
  {
   "cell_type": "markdown",
   "id": "5781d0a1",
   "metadata": {},
   "source": [
    "Définissons le dataframe relatif à la période initiale:"
   ]
  },
  {
   "cell_type": "code",
   "execution_count": 7,
   "id": "445aa862",
   "metadata": {},
   "outputs": [],
   "source": [
    "df_intial = df_period(df_orders, initial_date)"
   ]
  },
  {
   "cell_type": "markdown",
   "id": "beaa5d13",
   "metadata": {},
   "source": [
    "Définissons un processeur pour standardiser nos données:"
   ]
  },
  {
   "cell_type": "code",
   "execution_count": 8,
   "id": "7feff717",
   "metadata": {},
   "outputs": [],
   "source": [
    "numerical_features = list(df_intial.select_dtypes(include=['int64', 'float64', 'uint8']).columns)\n",
    "scaler = StandardScaler()\n",
    "preprocessor = ColumnTransformer([\n",
    "    ('scaler', scaler, numerical_features)])"
   ]
  },
  {
   "cell_type": "markdown",
   "id": "5e32f2bf",
   "metadata": {},
   "source": [
    "Définissons le pipeline relatif aux données initiales:"
   ]
  },
  {
   "cell_type": "code",
   "execution_count": 9,
   "id": "279fc2a1",
   "metadata": {},
   "outputs": [
    {
     "data": {
      "text/plain": [
       "Pipeline(steps=[('preprocessor',\n",
       "                 ColumnTransformer(transformers=[('scaler', StandardScaler(),\n",
       "                                                  ['recency', 'frequency',\n",
       "                                                   'monetary', 'note'])])),\n",
       "                ('kmeans', KMeans(n_clusters=5))])"
      ]
     },
     "execution_count": 9,
     "metadata": {},
     "output_type": "execute_result"
    }
   ],
   "source": [
    "kmeans_pipeline_init = Pipeline([\n",
    "                                 (\"preprocessor\", preprocessor),\n",
    "                                 (\"kmeans\", KMeans(5))])\n",
    "kmeans_pipeline_init.fit(df_intial)"
   ]
  },
  {
   "cell_type": "markdown",
   "id": "1f88e219",
   "metadata": {},
   "source": [
    "#### Simulation"
   ]
  },
  {
   "cell_type": "markdown",
   "id": "c51e2a45",
   "metadata": {},
   "source": [
    "Affichons notre intervalle temporelle:"
   ]
  },
  {
   "cell_type": "code",
   "execution_count": 10,
   "id": "d5eec27f",
   "metadata": {},
   "outputs": [
    {
     "data": {
      "text/plain": [
       "Timedelta('730 days 02:44:41')"
      ]
     },
     "execution_count": 10,
     "metadata": {},
     "output_type": "execute_result"
    }
   ],
   "source": [
    "(pd.to_datetime(initial_date)) - min(df_orders['order_purchase_timestamp'])"
   ]
  },
  {
   "cell_type": "markdown",
   "id": "fea97014",
   "metadata": {},
   "source": [
    "Fixons le délai entre 2 simulations à 10 jours et etudions la divergence des clusters sur notre intervalle temporelle:"
   ]
  },
  {
   "cell_type": "markdown",
   "id": "13799011",
   "metadata": {},
   "source": [
    "#### ARI"
   ]
  },
  {
   "cell_type": "markdown",
   "id": "db0b619e",
   "metadata": {},
   "source": [
    "Nous utlisons adjusted_rand_score(ARI) pour mésurer la divergence des clusters dans notre intervalle temporelle:"
   ]
  },
  {
   "cell_type": "markdown",
   "id": "796d6771",
   "metadata": {},
   "source": [
    "Définissons une fonction qui génere le dataframe des ARI score:"
   ]
  },
  {
   "cell_type": "code",
   "execution_count": 14,
   "id": "a961ccb1",
   "metadata": {},
   "outputs": [],
   "source": [
    "def ari_score(df):\n",
    "    \"\"\"Generate the adjusted_rand_score(ARI) dataframe to measure the divergence of clusters in our time interval.\n",
    "    Parameters\n",
    "    ----------\n",
    "    df : dataframe\n",
    "        initial dataframe\n",
    "    Returns\n",
    "    -------\n",
    "    df : dataframe\n",
    "         ARI score dataframe  \n",
    "    \"\"\"\n",
    "    ari_score = []\n",
    "    for p in range(71) :\n",
    "        # Create dataset for period\n",
    "        date = pd.to_datetime(initial_date) + pd.DateOffset(days=-10*p)\n",
    "        df_p = df_period(df,date)\n",
    "    \n",
    "        # K-Means p period \n",
    "        kmeans_pipeline = Pipeline([\n",
    "        (\"preprocessor\", preprocessor),\n",
    "        (\"kmeans\", KMeans(5))])\n",
    "        kmeans_pipeline.fit(df_p)\n",
    "    \n",
    "        # clusters\n",
    "        label_p = kmeans_pipeline.named_steps['kmeans'].labels_\n",
    "        label_0 = kmeans_pipeline_init.predict(df_p)\n",
    "    \n",
    "        # Calculate ARI score\n",
    "        ari_p = adjusted_rand_score(label_0, label_p)\n",
    "        ari_score.append([p,ari_p])\n",
    "    \n",
    "    # ARI score dataframe \n",
    "    df_ari_score = pd.DataFrame(ari_score, columns=['periode', 'ARI'])\n",
    "    \n",
    "    return df_ari_score  "
   ]
  },
  {
   "cell_type": "markdown",
   "id": "629040b6",
   "metadata": {},
   "source": [
    "Génerons le dataframe:"
   ]
  },
  {
   "cell_type": "code",
   "execution_count": 15,
   "id": "f2c02abf",
   "metadata": {},
   "outputs": [],
   "source": [
    "df_ari_score = ari_score(df_orders)"
   ]
  },
  {
   "cell_type": "markdown",
   "id": "ca800148",
   "metadata": {},
   "source": [
    "Visualissons les résultats:"
   ]
  },
  {
   "cell_type": "code",
   "execution_count": 18,
   "id": "22e37083",
   "metadata": {},
   "outputs": [
    {
     "data": {
      "image/png": "[encoded data removed]",
      "text/plain": [
       "<Figure size 864x576 with 1 Axes>"
      ]
     },
     "metadata": {
      "needs_background": "light"
     },
     "output_type": "display_data"
    }
   ],
   "source": [
    "fig = plt.figure(figsize=(12,8))\n",
    "sns.lineplot(data=df_ari_score, x=\"periode\", y=\"ARI\")\n",
    "plt.xlabel(\"Période\")\n",
    "plt.ylabel(\"Score ARI\")\n",
    "plt.title(\"Stabilité temporelle de la segmentation par K-Means\",\n",
    "          fontsize=18,\n",
    "          color=\"b\")\n",
    "plt.show()"
   ]
  },
  {
   "cell_type": "markdown",
   "id": "478b0400",
   "metadata": {},
   "source": [
    "Affichons la période temporelle où l'ARI est en dessous de 0.8:"
   ]
  },
  {
   "cell_type": "code",
   "execution_count": 17,
   "id": "7241197d",
   "metadata": {},
   "outputs": [
    {
     "data": {
      "text/html": [
       "<div>\n",
       "<style scoped>\n",
       "    .dataframe tbody tr th:only-of-type {\n",
       "        vertical-align: middle;\n",
       "    }\n",
       "\n",
       "    .dataframe tbody tr th {\n",
       "        vertical-align: top;\n",
       "    }\n",
       "\n",
       "    .dataframe thead th {\n",
       "        text-align: right;\n",
       "    }\n",
       "</style>\n",
       "<table border=\"1\" class=\"dataframe\">\n",
       "  <thead>\n",
       "    <tr style=\"text-align: right;\">\n",
       "      <th></th>\n",
       "      <th>periode</th>\n",
       "      <th>ARI</th>\n",
       "    </tr>\n",
       "  </thead>\n",
       "  <tbody>\n",
       "    <tr>\n",
       "      <th>48</th>\n",
       "      <td>48</td>\n",
       "      <td>0.688745</td>\n",
       "    </tr>\n",
       "    <tr>\n",
       "      <th>49</th>\n",
       "      <td>49</td>\n",
       "      <td>0.416288</td>\n",
       "    </tr>\n",
       "    <tr>\n",
       "      <th>50</th>\n",
       "      <td>50</td>\n",
       "      <td>0.418438</td>\n",
       "    </tr>\n",
       "    <tr>\n",
       "      <th>51</th>\n",
       "      <td>51</td>\n",
       "      <td>0.430077</td>\n",
       "    </tr>\n",
       "    <tr>\n",
       "      <th>52</th>\n",
       "      <td>52</td>\n",
       "      <td>0.427473</td>\n",
       "    </tr>\n",
       "  </tbody>\n",
       "</table>\n",
       "</div>"
      ],
      "text/plain": [
       "    periode       ARI\n",
       "48       48  0.688745\n",
       "49       49  0.416288\n",
       "50       50  0.418438\n",
       "51       51  0.430077\n",
       "52       52  0.427473"
      ]
     },
     "execution_count": 17,
     "metadata": {},
     "output_type": "execute_result"
    }
   ],
   "source": [
    "df_ari_score.loc[df_ari_score['ARI'] < 0.8].iloc[:5]"
   ]
  },
  {
   "cell_type": "markdown",
   "id": "27a41fb1",
   "metadata": {},
   "source": [
    "Des scores ARI obtenus sur des itérations par période de 10jours, on remarque une forte inflexion de l'ARI après 470 jours.\n",
    "\n",
    "Il faudra donc prévoir la maintenance du programme de segmentation tous les 470 jours dans un premier temps puis re-tester cette stabilité temporelle au fil du temps afin de l'affiner."
   ]
  },
  {
   "cell_type": "markdown",
   "id": "1b10e6c3",
   "metadata": {},
   "source": [
    "#### Accuracy"
   ]
  },
  {
   "cell_type": "markdown",
   "id": "645117ff",
   "metadata": {},
   "source": [
    "Nous utlisons ici l'accuracy pour mesurer la divergence des clusters dans notre intervalle temporelle:"
   ]
  },
  {
   "cell_type": "markdown",
   "id": "dea25063",
   "metadata": {},
   "source": [
    "Définissons une fonction pour réordonner la matrice de confusion:"
   ]
  },
  {
   "cell_type": "code",
   "execution_count": 21,
   "id": "825a1864",
   "metadata": {},
   "outputs": [],
   "source": [
    "def _make_cost_m(cm):\n",
    "    \"\"\"Function to transform the confusion matrix:.\n",
    "    Parameters\n",
    "    ----------\n",
    "    cm : matrix\n",
    "        confusion matrix\n",
    "    Returns\n",
    "    -------\n",
    "    - cm + s : matrix\n",
    "         confusion matrix transformed  \n",
    "    \"\"\"\n",
    "    s = np.max(cm)\n",
    "    return (- cm + s)"
   ]
  },
  {
   "cell_type": "markdown",
   "id": "0fe3661f",
   "metadata": {},
   "source": [
    "Calculons l'accuracy des clusters dans notre intervalle temporelle:"
   ]
  },
  {
   "cell_type": "markdown",
   "id": "8505933e",
   "metadata": {},
   "source": [
    "Définissons une fonction qui génere le dataframe des accuracy score:"
   ]
  },
  {
   "cell_type": "code",
   "execution_count": 22,
   "id": "ca7104b5",
   "metadata": {},
   "outputs": [],
   "source": [
    "def accuracy(df):\n",
    "    \"\"\"Generate the accuracy dataframe to measure the divergence of clusters in our time interval.\n",
    "    Parameters\n",
    "    ----------\n",
    "    df : dataframe\n",
    "        initial dataframe\n",
    "    Returns\n",
    "    -------\n",
    "    df : dataframe\n",
    "         accuracy dataframe  \n",
    "    \"\"\"\n",
    "    accuracy_score = []\n",
    "    for p in range(71) :\n",
    "        # Create dataset for period\n",
    "        date = pd.to_datetime(initial_date) + pd.DateOffset(days=-10*p)\n",
    "        df_p = df_period(df,date)\n",
    "    \n",
    "        # K-Means p period\n",
    "        kmeans_pipeline = Pipeline([\n",
    "        (\"preprocessor\", preprocessor),\n",
    "        (\"kmeans\", KMeans(5))])\n",
    "    \n",
    "        # Clusters\n",
    "        kmeans_pipeline.fit(df_p)\n",
    "        label_p = kmeans_pipeline.named_steps['kmeans'].labels_\n",
    "        label_0 = kmeans_pipeline_init.predict(df_p)\n",
    "    \n",
    "        # Confusion matrix\n",
    "        cm = confusion_matrix(label_0, label_p)\n",
    "    \n",
    "        # Confusion matric reordered\n",
    "        indexes = ln.linear_assignment(_make_cost_m(cm))      # Use linear_assignment function\n",
    "        js = [e[1] for e in sorted(indexes, key=lambda x: x[0])]\n",
    "        cm2 = cm[:, js]\n",
    "    \n",
    "        # Accuracy\n",
    "        accuracy = np.trace(cm2) / np.sum(cm2)\n",
    "        accuracy_score.append([p,accuracy])\n",
    "    \n",
    "    #  Accuracy dataframe\n",
    "    df_accuracy = pd.DataFrame(accuracy_score, columns=['periode', 'accuracy'])\n",
    "    \n",
    "    return df_accuracy\n",
    "    "
   ]
  },
  {
   "cell_type": "markdown",
   "id": "a1c7ad76",
   "metadata": {},
   "source": [
    "Génerons le dataframe:"
   ]
  },
  {
   "cell_type": "code",
   "execution_count": 23,
   "id": "aab2fc99",
   "metadata": {},
   "outputs": [],
   "source": [
    "df_accuracy = accuracy(df_orders)"
   ]
  },
  {
   "cell_type": "markdown",
   "id": "50893b86",
   "metadata": {},
   "source": [
    "Affichons les résultats:"
   ]
  },
  {
   "cell_type": "code",
   "execution_count": 26,
   "id": "ad12dd84",
   "metadata": {},
   "outputs": [
    {
     "data": {
      "image/png": "[encoded data removed]",
      "text/plain": [
       "<Figure size 864x576 with 1 Axes>"
      ]
     },
     "metadata": {
      "needs_background": "light"
     },
     "output_type": "display_data"
    }
   ],
   "source": [
    "fig = plt.figure(figsize=(12,8))\n",
    "sns.lineplot(data=df_accuracy, x=\"periode\", y='accuracy')\n",
    "plt.xlabel(\"Période\")\n",
    "plt.ylabel(\"Score Accurary\")\n",
    "plt.title(\"Stabilité temporelle de la segmentation par K-Means\",\n",
    "          fontsize=18,\n",
    "          color=\"b\")\n",
    "plt.show()"
   ]
  },
  {
   "cell_type": "markdown",
   "id": "c27de7c4",
   "metadata": {},
   "source": [
    "Affichons la période temporelle où l'accuracy est en dessous de 0.9:"
   ]
  },
  {
   "cell_type": "code",
   "execution_count": 25,
   "id": "12b7242f",
   "metadata": {},
   "outputs": [
    {
     "data": {
      "text/html": [
       "<div>\n",
       "<style scoped>\n",
       "    .dataframe tbody tr th:only-of-type {\n",
       "        vertical-align: middle;\n",
       "    }\n",
       "\n",
       "    .dataframe tbody tr th {\n",
       "        vertical-align: top;\n",
       "    }\n",
       "\n",
       "    .dataframe thead th {\n",
       "        text-align: right;\n",
       "    }\n",
       "</style>\n",
       "<table border=\"1\" class=\"dataframe\">\n",
       "  <thead>\n",
       "    <tr style=\"text-align: right;\">\n",
       "      <th></th>\n",
       "      <th>periode</th>\n",
       "      <th>accuracy</th>\n",
       "    </tr>\n",
       "  </thead>\n",
       "  <tbody>\n",
       "    <tr>\n",
       "      <th>48</th>\n",
       "      <td>48</td>\n",
       "      <td>0.890346</td>\n",
       "    </tr>\n",
       "    <tr>\n",
       "      <th>49</th>\n",
       "      <td>49</td>\n",
       "      <td>0.696128</td>\n",
       "    </tr>\n",
       "    <tr>\n",
       "      <th>50</th>\n",
       "      <td>50</td>\n",
       "      <td>0.701767</td>\n",
       "    </tr>\n",
       "    <tr>\n",
       "      <th>51</th>\n",
       "      <td>51</td>\n",
       "      <td>0.710825</td>\n",
       "    </tr>\n",
       "    <tr>\n",
       "      <th>52</th>\n",
       "      <td>52</td>\n",
       "      <td>0.713729</td>\n",
       "    </tr>\n",
       "  </tbody>\n",
       "</table>\n",
       "</div>"
      ],
      "text/plain": [
       "    periode  accuracy\n",
       "48       48  0.890346\n",
       "49       49  0.696128\n",
       "50       50  0.701767\n",
       "51       51  0.710825\n",
       "52       52  0.713729"
      ]
     },
     "execution_count": 25,
     "metadata": {},
     "output_type": "execute_result"
    }
   ],
   "source": [
    "df_accuracy.loc[df_accuracy['accuracy'] < 0.9].iloc[:5]"
   ]
  },
  {
   "cell_type": "markdown",
   "id": "78a6f96f",
   "metadata": {},
   "source": [
    "Nous obtenons les mêmes résultats quant à la période de de maintenace à savoir après 470 jours."
   ]
  },
  {
   "cell_type": "markdown",
   "id": "f67d9cec",
   "metadata": {},
   "source": [
    "#### Stabilité des clusters"
   ]
  },
  {
   "cell_type": "markdown",
   "id": "6a74985e",
   "metadata": {},
   "source": [
    "Nous allons étudier la stabilité dans le temps des clusters de « bons clients »"
   ]
  },
  {
   "cell_type": "markdown",
   "id": "7e64b5b1",
   "metadata": {},
   "source": [
    "Affichons les clusters à la fase initiale:"
   ]
  },
  {
   "cell_type": "code",
   "execution_count": 10,
   "id": "1779df88",
   "metadata": {},
   "outputs": [
    {
     "data": {
      "text/html": [
       "<div>\n",
       "<style scoped>\n",
       "    .dataframe tbody tr th:only-of-type {\n",
       "        vertical-align: middle;\n",
       "    }\n",
       "\n",
       "    .dataframe tbody tr th {\n",
       "        vertical-align: top;\n",
       "    }\n",
       "\n",
       "    .dataframe thead th {\n",
       "        text-align: right;\n",
       "    }\n",
       "</style>\n",
       "<table border=\"1\" class=\"dataframe\">\n",
       "  <thead>\n",
       "    <tr style=\"text-align: right;\">\n",
       "      <th></th>\n",
       "      <th>count</th>\n",
       "      <th>recency_mean</th>\n",
       "      <th>frequency_mean</th>\n",
       "      <th>monetary_mean</th>\n",
       "      <th>note_mean</th>\n",
       "    </tr>\n",
       "    <tr>\n",
       "      <th>cluster_id</th>\n",
       "      <th></th>\n",
       "      <th></th>\n",
       "      <th></th>\n",
       "      <th></th>\n",
       "      <th></th>\n",
       "    </tr>\n",
       "  </thead>\n",
       "  <tbody>\n",
       "    <tr>\n",
       "      <th>0</th>\n",
       "      <td>32135</td>\n",
       "      <td>441.922421</td>\n",
       "      <td>1.000000</td>\n",
       "      <td>497.317009</td>\n",
       "      <td>4.635195</td>\n",
       "    </tr>\n",
       "    <tr>\n",
       "      <th>1</th>\n",
       "      <td>42583</td>\n",
       "      <td>170.933589</td>\n",
       "      <td>1.000000</td>\n",
       "      <td>449.230735</td>\n",
       "      <td>4.672592</td>\n",
       "    </tr>\n",
       "    <tr>\n",
       "      <th>2</th>\n",
       "      <td>1574</td>\n",
       "      <td>296.916773</td>\n",
       "      <td>1.031131</td>\n",
       "      <td>10885.279333</td>\n",
       "      <td>3.970140</td>\n",
       "    </tr>\n",
       "    <tr>\n",
       "      <th>3</th>\n",
       "      <td>16854</td>\n",
       "      <td>291.514181</td>\n",
       "      <td>1.000000</td>\n",
       "      <td>562.047387</td>\n",
       "      <td>1.593746</td>\n",
       "    </tr>\n",
       "    <tr>\n",
       "      <th>4</th>\n",
       "      <td>2945</td>\n",
       "      <td>268.237012</td>\n",
       "      <td>2.115450</td>\n",
       "      <td>1098.704723</td>\n",
       "      <td>4.136076</td>\n",
       "    </tr>\n",
       "  </tbody>\n",
       "</table>\n",
       "</div>"
      ],
      "text/plain": [
       "            count  recency_mean  frequency_mean  monetary_mean  note_mean\n",
       "cluster_id                                                               \n",
       "0           32135    441.922421        1.000000     497.317009   4.635195\n",
       "1           42583    170.933589        1.000000     449.230735   4.672592\n",
       "2            1574    296.916773        1.031131   10885.279333   3.970140\n",
       "3           16854    291.514181        1.000000     562.047387   1.593746\n",
       "4            2945    268.237012        2.115450    1098.704723   4.136076"
      ]
     },
     "execution_count": 10,
     "metadata": {},
     "output_type": "execute_result"
    }
   ],
   "source": [
    "df_intial['cluster_id'] = kmeans_pipeline_init.named_steps['kmeans'].labels_\n",
    "df_mean = df_intial.groupby('cluster_id').agg({'customer_id': 'count',\n",
    "                                               'recency': 'mean',\n",
    "                                               'frequency':'mean',\n",
    "                                               'monetary':'mean',\n",
    "                                               'note': 'mean'})\n",
    "df_mean.columns = ['count', 'recency_mean', 'frequency_mean', 'monetary_mean', 'note_mean']\n",
    "df_mean"
   ]
  },
  {
   "cell_type": "markdown",
   "id": "4180c739",
   "metadata": {},
   "source": [
    "Ici nos \"bons clients\" sont dans les clusters 2 et 4:\n",
    "- Les clients ayant un fort potentiel économique\n",
    "- Les clients ayant effectués plus d'une commande"
   ]
  },
  {
   "cell_type": "markdown",
   "id": "873a8c8f",
   "metadata": {},
   "source": [
    "Affichons la répartions des clusters juste avant l'inflexion de l'ARI:"
   ]
  },
  {
   "cell_type": "code",
   "execution_count": 14,
   "id": "e1b41862",
   "metadata": {},
   "outputs": [
    {
     "data": {
      "text/html": [
       "<div>\n",
       "<style scoped>\n",
       "    .dataframe tbody tr th:only-of-type {\n",
       "        vertical-align: middle;\n",
       "    }\n",
       "\n",
       "    .dataframe tbody tr th {\n",
       "        vertical-align: top;\n",
       "    }\n",
       "\n",
       "    .dataframe thead th {\n",
       "        text-align: right;\n",
       "    }\n",
       "</style>\n",
       "<table border=\"1\" class=\"dataframe\">\n",
       "  <thead>\n",
       "    <tr style=\"text-align: right;\">\n",
       "      <th></th>\n",
       "      <th>count</th>\n",
       "      <th>recency_mean</th>\n",
       "      <th>frequency_mean</th>\n",
       "      <th>monetary_mean</th>\n",
       "      <th>note_mean</th>\n",
       "    </tr>\n",
       "    <tr>\n",
       "      <th>cluster_id</th>\n",
       "      <th></th>\n",
       "      <th></th>\n",
       "      <th></th>\n",
       "      <th></th>\n",
       "      <th></th>\n",
       "    </tr>\n",
       "  </thead>\n",
       "  <tbody>\n",
       "    <tr>\n",
       "      <th>0</th>\n",
       "      <td>3332</td>\n",
       "      <td>615.424670</td>\n",
       "      <td>1.000000</td>\n",
       "      <td>510.643836</td>\n",
       "      <td>4.632653</td>\n",
       "    </tr>\n",
       "    <tr>\n",
       "      <th>1</th>\n",
       "      <td>4897</td>\n",
       "      <td>540.331632</td>\n",
       "      <td>1.000000</td>\n",
       "      <td>529.921817</td>\n",
       "      <td>4.627119</td>\n",
       "    </tr>\n",
       "    <tr>\n",
       "      <th>2</th>\n",
       "      <td>157</td>\n",
       "      <td>577.910828</td>\n",
       "      <td>1.006369</td>\n",
       "      <td>13381.747325</td>\n",
       "      <td>4.057325</td>\n",
       "    </tr>\n",
       "    <tr>\n",
       "      <th>3</th>\n",
       "      <td>1888</td>\n",
       "      <td>576.665784</td>\n",
       "      <td>1.000000</td>\n",
       "      <td>632.507447</td>\n",
       "      <td>1.573093</td>\n",
       "    </tr>\n",
       "    <tr>\n",
       "      <th>4</th>\n",
       "      <td>220</td>\n",
       "      <td>566.195455</td>\n",
       "      <td>2.104545</td>\n",
       "      <td>1271.116545</td>\n",
       "      <td>4.110606</td>\n",
       "    </tr>\n",
       "  </tbody>\n",
       "</table>\n",
       "</div>"
      ],
      "text/plain": [
       "            count  recency_mean  frequency_mean  monetary_mean  note_mean\n",
       "cluster_id                                                               \n",
       "0            3332    615.424670        1.000000     510.643836   4.632653\n",
       "1            4897    540.331632        1.000000     529.921817   4.627119\n",
       "2             157    577.910828        1.006369   13381.747325   4.057325\n",
       "3            1888    576.665784        1.000000     632.507447   1.573093\n",
       "4             220    566.195455        2.104545    1271.116545   4.110606"
      ]
     },
     "execution_count": 14,
     "metadata": {},
     "output_type": "execute_result"
    }
   ],
   "source": [
    "date = pd.to_datetime(initial_date) + pd.DateOffset(days=-10*47)\n",
    "df_p = df_period(df_orders,date)\n",
    "df_p['cluster_id'] = kmeans_pipeline_init.predict(df_p)\n",
    "df_mean = df_p.groupby('cluster_id').agg({'customer_id': 'count',\n",
    "                                          'recency': 'mean',\n",
    "                                          'frequency':'mean',\n",
    "                                          'monetary':'mean',\n",
    "                                          'note': 'mean'})\n",
    "df_mean.columns = ['count', 'recency_mean', 'frequency_mean', 'monetary_mean', 'note_mean']\n",
    "df_mean"
   ]
  },
  {
   "cell_type": "markdown",
   "id": "90516984",
   "metadata": {},
   "source": [
    "Les clusters 2 et 4 répresentent toujours:\n",
    "- Les clients ayant un fort potentiel économique\n",
    "- Les clients ayant effectués plus d'une commande\n",
    "\n",
    "On aurait donc une stabilité à priori des clusters de « bons clients » dans l'intervalle temps précedent la maintenance."
   ]
  },
  {
   "cell_type": "code",
   "execution_count": null,
   "id": "06090aaf",
   "metadata": {},
   "outputs": [],
   "source": []
  }
 ],
 "metadata": {
  "kernelspec": {
   "display_name": "Python 3 (ipykernel)",
   "language": "python",
   "name": "python3"
  },
  "language_info": {
   "codemirror_mode": {
    "name": "ipython",
    "version": 3
   },
   "file_extension": ".py",
   "mimetype": "text/x-python",
   "name": "python",
   "nbconvert_exporter": "python",
   "pygments_lexer": "ipython3",
   "version": "3.9.7"
  }
 },
 "nbformat": 4,
 "nbformat_minor": 5
}
